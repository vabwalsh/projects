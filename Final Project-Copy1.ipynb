{
 "cells": [
  {
   "cell_type": "markdown",
   "metadata": {},
   "source": [
    "# Cross Comparing Stratigraphic Sets: Working Around Real Data"
   ]
  },
  {
   "cell_type": "markdown",
   "metadata": {},
   "source": [
    "#     Python Introduction to Earth Science (EPS 88) Final Project, Fall 2019"
   ]
  },
  {
   "cell_type": "markdown",
   "metadata": {},
   "source": [
    "# Violet A.B. Walsh"
   ]
  },
  {
   "cell_type": "markdown",
   "metadata": {},
   "source": [
    "This project examines and compares two data sets of interest related to paleoclimatology. This subject is personally relevant to me as an undergraduate researcher in Prof. David Wahl's Quaternary Paleoecology Laboratory, where I frequently proccess samples like the ones from which this data was collected. \n",
    "\n",
    "The two sets contrasted here are pollen counts from Clear Lake, CA. First sediment was extracted from a lake core, then proccessed to extract pollen, and lastly it was mounted on a slide and counted. Since pollen from different flora are distinct, they can usually be identified to the genus by an experienced palynologist. Additionally, the pollen present in a given assemblage is considered to be reflective of the local flora and yields information about the local species composition and abundance. By counting the pollen on slides made from different depths throughout the sediment core it's possible to view changes indicitive of climatic shifts over time, such as changing species composition, which allow pollen to be used as a \"paleoproxy\" for past climates. This work is becoming increasingly relevant as scientists seek to understand how biota responded to past climate changes in order to make informed predictions about the future."
   ]
  },
  {
   "cell_type": "markdown",
   "metadata": {},
   "source": [
    "Each of the two sets in this experiment were collected by different researchers. One was learning to count pollen at the time, while the other was an experienced palynologist. As you will notice, there are differences between the counts. Due to the nature of sediment core sampling, the same depth can only ever be sampled once, so each set was collected for samples at unique depths. Theoretically, the intermediate depth values should integrate smoothly into the trends of either set if both are equally representative of the samples. Any extreme differences would allude to inaccuracy in one or both sets, and could call into question the validity of the counting process used. This is an important excersize because it yields information as to mistakes or consistent misidentifications within the sets."
   ]
  },
  {
   "cell_type": "markdown",
   "metadata": {},
   "source": [
    "# Project Question: \n",
    "What are the differences are there between the sets and what are some implications of those? Are both results similar enough that both counts can be considered accurate?"
   ]
  },
  {
   "cell_type": "markdown",
   "metadata": {},
   "source": [
    "# Components:\n",
    "Data Visualization 1:\n",
    "In order to answer this question, I will first need to design a method for creating count-depth diagrams in Python. Currently, this essential visual is created with a combination of Excel, R, and visual editing tools by my lab. Stratigraphic diagrams of this type are the basis for interpreting shifts in species composition, and extrapolating climatic shifts.\n",
    "\n",
    "Data Visualization 2:\n",
    "Since conifer pollen is abundant in the samples, I will also look at the breakdown of conifer types in each set as a proxy for their similarity. \n",
    "\n",
    "Data Visualization 3:\n",
    "The kind of variation that would be important between the sets is differences in species compositions over depth, differences like those visible in Data Visualization 1. In order to see this for conifers across the two sets together, I will modify my earlier graphs in order to see both sets together-- however, by not having exactly the same axis for comparison will limit this otherwsie essetial approach.\n",
    "\n",
    "Data Visualization 3.5:\n",
    "Since I can't compare exactly the same axis, as each set counted slightly different categories, I will also attempt to look as overall pollen deposition rates. If total pollen deposition across the samples is consistent (regardless of distribution of the totals across genera) it would be a positive indicator for the reliability of each set.\n",
    "\n",
    "Data Analysis 1:\n",
    "So far the sets look similar, so in order to gain more insight into any variation I will examine the Pinus (pine) counts more closely. This is a good proxy for the overall set since it is a large fraction of the overall composition of not only conifers, but the whole set. Plot a linear regression for the pine counts. Sources: https://towardsdatascience.com/linear-regression-in-6-lines-of-python-5e1d0cd05b8d, https://hackernoon.com/types-of-linear-regression-w4o227s5\n",
    "\n",
    "Data Analysis 1.5:\n",
    "But wait, isn't the amount of conifer pollen a function of multiple variables includig depth and the total count? That leads me to consider a Multiple Linear Regression plot, and see if it looks any different. By also plotting the residuals from this linear regression, I can interpret the reliability of the data as well. Sources: https://towardsdatascience.com/simple-and-multiple-linear-regression-in-python-c928425168f9\n",
    "\n",
    "Data Analysis 2:\n",
    "Lastly, I should examine my confidence intervals for the two sets. Visualizing this helps put any conclusions made in context of their reliability. Sources: http://hamelg.blogspot.com/2015/11/python-for-data-analysis-part-23-point.html"
   ]
  },
  {
   "cell_type": "markdown",
   "metadata": {},
   "source": [
    "# Code and Final Project Steps:"
   ]
  },
  {
   "cell_type": "markdown",
   "metadata": {},
   "source": [
    "Step 0: Import the necessary libraries"
   ]
  },
  {
   "cell_type": "code",
   "execution_count": 1,
   "metadata": {},
   "outputs": [],
   "source": [
    "import pandas as pd\n",
    "import numpy as np\n",
    "import random\n",
    "import math\n",
    "import scipy as sp\n",
    "import scipy.stats as stats\n",
    "from scipy.interpolate import interp1d\n",
    "import seaborn as sns\n",
    "import matplotlib.pyplot as plt\n",
    "import matplotlib.ticker as plticker\n",
    "from matplotlib import cm\n",
    "from sklearn.linear_model import LinearRegression"
   ]
  },
  {
   "cell_type": "markdown",
   "metadata": {},
   "source": [
    "Step 1: Convert to CSVs and import the data. These are very messy and will require extensive cleaning. I converted these counts from an excel sheet which was not set up to graph in Python."
   ]
  },
  {
   "cell_type": "code",
   "execution_count": 2,
   "metadata": {},
   "outputs": [
    {
     "data": {
      "text/html": [
       "<div>\n",
       "<style scoped>\n",
       "    .dataframe tbody tr th:only-of-type {\n",
       "        vertical-align: middle;\n",
       "    }\n",
       "\n",
       "    .dataframe tbody tr th {\n",
       "        vertical-align: top;\n",
       "    }\n",
       "\n",
       "    .dataframe thead th {\n",
       "        text-align: right;\n",
       "    }\n",
       "</style>\n",
       "<table border=\"1\" class=\"dataframe\">\n",
       "  <thead>\n",
       "    <tr style=\"text-align: right;\">\n",
       "      <th></th>\n",
       "      <th>Unnamed: 0</th>\n",
       "      <th>1</th>\n",
       "      <th>2</th>\n",
       "      <th>3</th>\n",
       "      <th>4</th>\n",
       "      <th>5</th>\n",
       "      <th>6</th>\n",
       "      <th>7</th>\n",
       "      <th>8</th>\n",
       "      <th>9</th>\n",
       "      <th>...</th>\n",
       "      <th>96</th>\n",
       "      <th>97</th>\n",
       "      <th>98</th>\n",
       "      <th>99</th>\n",
       "      <th>100</th>\n",
       "      <th>101</th>\n",
       "      <th>102</th>\n",
       "      <th>103</th>\n",
       "      <th>104</th>\n",
       "      <th>Unnamed: 105</th>\n",
       "    </tr>\n",
       "  </thead>\n",
       "  <tbody>\n",
       "    <tr>\n",
       "      <th>0</th>\n",
       "      <td>Depth</td>\n",
       "      <td>Abies</td>\n",
       "      <td>Picea</td>\n",
       "      <td>Pinus</td>\n",
       "      <td>Pinus (white)</td>\n",
       "      <td>Ephedra</td>\n",
       "      <td>Pseudotsuga</td>\n",
       "      <td>TCT</td>\n",
       "      <td>Juniperus/Cupressus</td>\n",
       "      <td>Tsuga mertensiana</td>\n",
       "      <td>...</td>\n",
       "      <td>Unknown C</td>\n",
       "      <td>Unknown D</td>\n",
       "      <td>Unknown E</td>\n",
       "      <td>Unknown F</td>\n",
       "      <td>Indeterminate</td>\n",
       "      <td>Other unknowns</td>\n",
       "      <td>Zea</td>\n",
       "      <td>Lycopodium</td>\n",
       "      <td>APFAC</td>\n",
       "      <td>Total Pollen and Spores</td>\n",
       "    </tr>\n",
       "    <tr>\n",
       "      <th>1</th>\n",
       "      <td>13.64</td>\n",
       "      <td>0</td>\n",
       "      <td>0</td>\n",
       "      <td>54</td>\n",
       "      <td>0</td>\n",
       "      <td>0</td>\n",
       "      <td>1</td>\n",
       "      <td>0</td>\n",
       "      <td>8</td>\n",
       "      <td>25</td>\n",
       "      <td>...</td>\n",
       "      <td>0</td>\n",
       "      <td>0</td>\n",
       "      <td>0</td>\n",
       "      <td>0</td>\n",
       "      <td>15</td>\n",
       "      <td>24</td>\n",
       "      <td>560</td>\n",
       "      <td>241</td>\n",
       "      <td>2085</td>\n",
       "      <td>422</td>\n",
       "    </tr>\n",
       "    <tr>\n",
       "      <th>2</th>\n",
       "      <td>14.56</td>\n",
       "      <td>1</td>\n",
       "      <td>0</td>\n",
       "      <td>55</td>\n",
       "      <td>0</td>\n",
       "      <td>0</td>\n",
       "      <td>1</td>\n",
       "      <td>26</td>\n",
       "      <td>5</td>\n",
       "      <td>0</td>\n",
       "      <td>...</td>\n",
       "      <td>0</td>\n",
       "      <td>0</td>\n",
       "      <td>0</td>\n",
       "      <td>0</td>\n",
       "      <td>26</td>\n",
       "      <td>30</td>\n",
       "      <td>310</td>\n",
       "      <td>223</td>\n",
       "      <td>2085</td>\n",
       "      <td>477</td>\n",
       "    </tr>\n",
       "    <tr>\n",
       "      <th>3</th>\n",
       "      <td>15.51</td>\n",
       "      <td>4</td>\n",
       "      <td>0</td>\n",
       "      <td>60</td>\n",
       "      <td>0</td>\n",
       "      <td>0</td>\n",
       "      <td>0</td>\n",
       "      <td>34</td>\n",
       "      <td>5</td>\n",
       "      <td>3</td>\n",
       "      <td>...</td>\n",
       "      <td>0</td>\n",
       "      <td>0</td>\n",
       "      <td>0</td>\n",
       "      <td>0</td>\n",
       "      <td>26</td>\n",
       "      <td>17</td>\n",
       "      <td>258</td>\n",
       "      <td>207</td>\n",
       "      <td>2085</td>\n",
       "      <td>561</td>\n",
       "    </tr>\n",
       "    <tr>\n",
       "      <th>4</th>\n",
       "      <td>16.48</td>\n",
       "      <td>5</td>\n",
       "      <td>1</td>\n",
       "      <td>69</td>\n",
       "      <td>0</td>\n",
       "      <td>0</td>\n",
       "      <td>0</td>\n",
       "      <td>39</td>\n",
       "      <td>3</td>\n",
       "      <td>1</td>\n",
       "      <td>...</td>\n",
       "      <td>0</td>\n",
       "      <td>0</td>\n",
       "      <td>0</td>\n",
       "      <td>0</td>\n",
       "      <td>0</td>\n",
       "      <td>0</td>\n",
       "      <td>288</td>\n",
       "      <td>231</td>\n",
       "      <td>2085</td>\n",
       "      <td>486</td>\n",
       "    </tr>\n",
       "  </tbody>\n",
       "</table>\n",
       "<p>5 rows × 106 columns</p>\n",
       "</div>"
      ],
      "text/plain": [
       "  Unnamed: 0      1      2      3              4        5            6    7  \\\n",
       "0      Depth  Abies  Picea  Pinus  Pinus (white)  Ephedra  Pseudotsuga  TCT   \n",
       "1      13.64      0      0     54              0        0            1    0   \n",
       "2      14.56      1      0     55              0        0            1   26   \n",
       "3      15.51      4      0     60              0        0            0   34   \n",
       "4      16.48      5      1     69              0        0            0   39   \n",
       "\n",
       "                     8                  9  ...         96         97  \\\n",
       "0  Juniperus/Cupressus  Tsuga mertensiana  ...  Unknown C  Unknown D   \n",
       "1                    8                 25  ...          0          0   \n",
       "2                    5                  0  ...          0          0   \n",
       "3                    5                  3  ...          0          0   \n",
       "4                    3                  1  ...          0          0   \n",
       "\n",
       "          98         99            100             101  102         103  \\\n",
       "0  Unknown E  Unknown F  Indeterminate  Other unknowns  Zea  Lycopodium   \n",
       "1          0          0             15              24  560         241   \n",
       "2          0          0             26              30  310         223   \n",
       "3          0          0             26              17  258         207   \n",
       "4          0          0              0               0  288         231   \n",
       "\n",
       "     104             Unnamed: 105  \n",
       "0  APFAC  Total Pollen and Spores  \n",
       "1   2085                      422  \n",
       "2   2085                      477  \n",
       "3   2085                      561  \n",
       "4   2085                      486  \n",
       "\n",
       "[5 rows x 106 columns]"
      ]
     },
     "execution_count": 2,
     "metadata": {},
     "output_type": "execute_result"
    }
   ],
   "source": [
    "rcounts = pd.read_csv('/Users/Violet/Desktop/Notes-and-Readings/EPS 88/final_project/RCLPollen/rcounts-raw.csv')\n",
    "rcounts.head()"
   ]
  },
  {
   "cell_type": "code",
   "execution_count": 3,
   "metadata": {},
   "outputs": [
    {
     "data": {
      "text/html": [
       "<div>\n",
       "<style scoped>\n",
       "    .dataframe tbody tr th:only-of-type {\n",
       "        vertical-align: middle;\n",
       "    }\n",
       "\n",
       "    .dataframe tbody tr th {\n",
       "        vertical-align: top;\n",
       "    }\n",
       "\n",
       "    .dataframe thead th {\n",
       "        text-align: right;\n",
       "    }\n",
       "</style>\n",
       "<table border=\"1\" class=\"dataframe\">\n",
       "  <thead>\n",
       "    <tr style=\"text-align: right;\">\n",
       "      <th></th>\n",
       "      <th>Unnamed: 0</th>\n",
       "      <th>Unnamed: 1</th>\n",
       "      <th>Unnamed: 2</th>\n",
       "      <th>Unnamed: 3</th>\n",
       "      <th>Unnamed: 4</th>\n",
       "      <th>1</th>\n",
       "      <th>2</th>\n",
       "      <th>3</th>\n",
       "      <th>4</th>\n",
       "      <th>5</th>\n",
       "      <th>...</th>\n",
       "      <th>98</th>\n",
       "      <th>99</th>\n",
       "      <th>100</th>\n",
       "      <th>101</th>\n",
       "      <th>102</th>\n",
       "      <th>103</th>\n",
       "      <th>104</th>\n",
       "      <th>Unnamed: 109</th>\n",
       "      <th>Unnamed: 110</th>\n",
       "      <th>Unnamed: 111</th>\n",
       "    </tr>\n",
       "  </thead>\n",
       "  <tbody>\n",
       "    <tr>\n",
       "      <th>0</th>\n",
       "      <td>Date Counted</td>\n",
       "      <td>Notes/Possible Issues</td>\n",
       "      <td>Section Number and Depth</td>\n",
       "      <td>Roger's Depth(Original Field Depths)</td>\n",
       "      <td>Indeterminate Conifer</td>\n",
       "      <td>Abies</td>\n",
       "      <td>Picea</td>\n",
       "      <td>Pinus</td>\n",
       "      <td>Pinus (white)</td>\n",
       "      <td>Ephedra</td>\n",
       "      <td>...</td>\n",
       "      <td>Unknown E</td>\n",
       "      <td>Unknown F</td>\n",
       "      <td>Indeterminate</td>\n",
       "      <td>Other unknowns</td>\n",
       "      <td>Zea</td>\n",
       "      <td>Lycopodium</td>\n",
       "      <td>APFAC</td>\n",
       "      <td>Sum of all pollen</td>\n",
       "      <td>NaN</td>\n",
       "      <td>NaN</td>\n",
       "    </tr>\n",
       "    <tr>\n",
       "      <th>1</th>\n",
       "      <td>September of 2018</td>\n",
       "      <td>Cooked by Sheehan, Way more indeterminate. Not...</td>\n",
       "      <td>CL12-1A-4H-2-30</td>\n",
       "      <td>9.43</td>\n",
       "      <td>7</td>\n",
       "      <td>NaN</td>\n",
       "      <td>NaN</td>\n",
       "      <td>25</td>\n",
       "      <td>NaN</td>\n",
       "      <td>NaN</td>\n",
       "      <td>...</td>\n",
       "      <td>NaN</td>\n",
       "      <td>NaN</td>\n",
       "      <td>109</td>\n",
       "      <td>50</td>\n",
       "      <td>NaN</td>\n",
       "      <td>31</td>\n",
       "      <td>NaN</td>\n",
       "      <td>293</td>\n",
       "      <td>NaN</td>\n",
       "      <td>NaN</td>\n",
       "    </tr>\n",
       "    <tr>\n",
       "      <th>2</th>\n",
       "      <td>September of 2019</td>\n",
       "      <td>Roger/Marie Cook</td>\n",
       "      <td>CL12-1A-6H-2-134</td>\n",
       "      <td>16.85</td>\n",
       "      <td>5</td>\n",
       "      <td>NaN</td>\n",
       "      <td>2</td>\n",
       "      <td>28</td>\n",
       "      <td>NaN</td>\n",
       "      <td>NaN</td>\n",
       "      <td>...</td>\n",
       "      <td>NaN</td>\n",
       "      <td>NaN</td>\n",
       "      <td>74</td>\n",
       "      <td>3</td>\n",
       "      <td>72</td>\n",
       "      <td>181</td>\n",
       "      <td>NaN</td>\n",
       "      <td>426</td>\n",
       "      <td>NaN</td>\n",
       "      <td>NaN</td>\n",
       "    </tr>\n",
       "    <tr>\n",
       "      <th>3</th>\n",
       "      <td>September of 2019</td>\n",
       "      <td>Roger/Marie Cook</td>\n",
       "      <td>CL12--1A-7H-1-84</td>\n",
       "      <td>17.89</td>\n",
       "      <td>3</td>\n",
       "      <td>NaN</td>\n",
       "      <td>5</td>\n",
       "      <td>37</td>\n",
       "      <td>NaN</td>\n",
       "      <td>NaN</td>\n",
       "      <td>...</td>\n",
       "      <td>NaN</td>\n",
       "      <td>NaN</td>\n",
       "      <td>57</td>\n",
       "      <td>7</td>\n",
       "      <td>67</td>\n",
       "      <td>198</td>\n",
       "      <td>NaN</td>\n",
       "      <td>444</td>\n",
       "      <td>NaN</td>\n",
       "      <td>NaN</td>\n",
       "    </tr>\n",
       "    <tr>\n",
       "      <th>4</th>\n",
       "      <td>November of 2018</td>\n",
       "      <td>Roger/Marie Cook, learned Dryopteris for first...</td>\n",
       "      <td>CL12-1A-7H-2-84</td>\n",
       "      <td>18.91</td>\n",
       "      <td>NaN</td>\n",
       "      <td>3</td>\n",
       "      <td>7</td>\n",
       "      <td>66</td>\n",
       "      <td>NaN</td>\n",
       "      <td>NaN</td>\n",
       "      <td>...</td>\n",
       "      <td>NaN</td>\n",
       "      <td>NaN</td>\n",
       "      <td>28</td>\n",
       "      <td>22</td>\n",
       "      <td>285</td>\n",
       "      <td>211</td>\n",
       "      <td>NaN</td>\n",
       "      <td>401</td>\n",
       "      <td>NaN</td>\n",
       "      <td>NaN</td>\n",
       "    </tr>\n",
       "  </tbody>\n",
       "</table>\n",
       "<p>5 rows × 112 columns</p>\n",
       "</div>"
      ],
      "text/plain": [
       "          Unnamed: 0                                         Unnamed: 1  \\\n",
       "0       Date Counted                              Notes/Possible Issues   \n",
       "1  September of 2018  Cooked by Sheehan, Way more indeterminate. Not...   \n",
       "2  September of 2019                                   Roger/Marie Cook   \n",
       "3  September of 2019                                   Roger/Marie Cook   \n",
       "4   November of 2018  Roger/Marie Cook, learned Dryopteris for first...   \n",
       "\n",
       "                 Unnamed: 2                            Unnamed: 3  \\\n",
       "0  Section Number and Depth  Roger's Depth(Original Field Depths)   \n",
       "1           CL12-1A-4H-2-30                                  9.43   \n",
       "2          CL12-1A-6H-2-134                                 16.85   \n",
       "3          CL12--1A-7H-1-84                                 17.89   \n",
       "4           CL12-1A-7H-2-84                                 18.91   \n",
       "\n",
       "              Unnamed: 4      1      2      3              4        5  ...  \\\n",
       "0  Indeterminate Conifer  Abies  Picea  Pinus  Pinus (white)  Ephedra  ...   \n",
       "1                      7    NaN    NaN     25            NaN      NaN  ...   \n",
       "2                      5    NaN      2     28            NaN      NaN  ...   \n",
       "3                      3    NaN      5     37            NaN      NaN  ...   \n",
       "4                    NaN      3      7     66            NaN      NaN  ...   \n",
       "\n",
       "          98         99            100             101  102         103  \\\n",
       "0  Unknown E  Unknown F  Indeterminate  Other unknowns  Zea  Lycopodium   \n",
       "1        NaN        NaN            109              50  NaN          31   \n",
       "2        NaN        NaN             74               3   72         181   \n",
       "3        NaN        NaN             57               7   67         198   \n",
       "4        NaN        NaN             28              22  285         211   \n",
       "\n",
       "     104       Unnamed: 109 Unnamed: 110 Unnamed: 111  \n",
       "0  APFAC  Sum of all pollen          NaN          NaN  \n",
       "1    NaN                293          NaN          NaN  \n",
       "2    NaN                426          NaN          NaN  \n",
       "3    NaN                444          NaN          NaN  \n",
       "4    NaN                401          NaN          NaN  \n",
       "\n",
       "[5 rows x 112 columns]"
      ]
     },
     "execution_count": 3,
     "metadata": {},
     "output_type": "execute_result"
    }
   ],
   "source": [
    "mcounts = pd.read_csv('/Users/Violet/Desktop/Notes-and-Readings/EPS 88/final_project/MCLPollen/mcounts-raw.csv')\n",
    "mcounts.head()"
   ]
  },
  {
   "cell_type": "markdown",
   "metadata": {},
   "source": [
    "Step 2: Simplify data sets. Remove columns w/o counts, remove notes, standardize columns across the two."
   ]
  },
  {
   "cell_type": "code",
   "execution_count": 4,
   "metadata": {},
   "outputs": [],
   "source": [
    "#replace NaNs with 0s\n",
    "mcounts = mcounts.fillna(0)\n",
    "rcounts = rcounts.fillna(0)\n",
    "\n",
    "#remove columns of notes such that dfs only contain data and have the same indices\n",
    "a = mcounts.drop('Unnamed: 0', axis=1)\n",
    "b = a.drop('Unnamed: 1', axis=1)\n",
    "mcounts = b.drop('Unnamed: 2', axis=1)"
   ]
  },
  {
   "cell_type": "code",
   "execution_count": 5,
   "metadata": {},
   "outputs": [],
   "source": [
    "##use genus labels from row 1 for column headers\n",
    "mcounts = mcounts.rename(columns=mcounts.iloc[0])\n",
    "mcounts = mcounts.drop(0, axis=0)\n",
    "\n",
    "rcounts = rcounts.rename(columns=rcounts.iloc[0])\n",
    "rcounts = rcounts.drop(0, axis=0)"
   ]
  },
  {
   "cell_type": "code",
   "execution_count": 6,
   "metadata": {},
   "outputs": [],
   "source": [
    "##Standardize column names for depth and pollen sums\n",
    "mcounts = mcounts.rename(columns={\"Roger's Depth(Original Field Depths)\": \"Depth\"})\n",
    "mcounts_clean = mcounts.rename(columns={\"Sum of all pollen\": \"Total\"})\n",
    "\n",
    "rcounts_clean = rcounts.rename(columns={\"Total Pollen and Spores\": \"Total\"})"
   ]
  },
  {
   "cell_type": "code",
   "execution_count": 7,
   "metadata": {},
   "outputs": [],
   "source": [
    "##make sure type(data) == str, this causes problems graphing later\n",
    "mcounts_clean[\"Depth\"] = mcounts_clean[\"Depth\"].apply(float)\n",
    "mcounts_clean[\"Total\"] = mcounts_clean[\"Total\"].apply(float)\n",
    "\n",
    "rcounts_clean[\"Depth\"] = rcounts_clean[\"Depth\"].apply(float)\n",
    "rcounts_clean[\"Total\"] = rcounts_clean[\"Total\"].apply(float)"
   ]
  },
  {
   "cell_type": "code",
   "execution_count": 8,
   "metadata": {},
   "outputs": [
    {
     "data": {
      "text/html": [
       "<div>\n",
       "<style scoped>\n",
       "    .dataframe tbody tr th:only-of-type {\n",
       "        vertical-align: middle;\n",
       "    }\n",
       "\n",
       "    .dataframe tbody tr th {\n",
       "        vertical-align: top;\n",
       "    }\n",
       "\n",
       "    .dataframe thead th {\n",
       "        text-align: right;\n",
       "    }\n",
       "</style>\n",
       "<table border=\"1\" class=\"dataframe\">\n",
       "  <thead>\n",
       "    <tr style=\"text-align: right;\">\n",
       "      <th></th>\n",
       "      <th>Depth</th>\n",
       "      <th>Indeterminate Conifer</th>\n",
       "      <th>Abies</th>\n",
       "      <th>Picea</th>\n",
       "      <th>Pinus</th>\n",
       "      <th>Pinus (white)</th>\n",
       "      <th>Ephedra</th>\n",
       "      <th>Pseudotsuga</th>\n",
       "      <th>TCT</th>\n",
       "      <th>Juniperus/Cupressus</th>\n",
       "      <th>...</th>\n",
       "      <th>Unknown E</th>\n",
       "      <th>Unknown F</th>\n",
       "      <th>Indeterminate</th>\n",
       "      <th>Other unknowns</th>\n",
       "      <th>Zea</th>\n",
       "      <th>Lycopodium</th>\n",
       "      <th>APFAC</th>\n",
       "      <th>Total</th>\n",
       "      <th>0.0</th>\n",
       "      <th>0.0</th>\n",
       "    </tr>\n",
       "  </thead>\n",
       "  <tbody>\n",
       "    <tr>\n",
       "      <th>1</th>\n",
       "      <td>9.43</td>\n",
       "      <td>7</td>\n",
       "      <td>0</td>\n",
       "      <td>0</td>\n",
       "      <td>25</td>\n",
       "      <td>0</td>\n",
       "      <td>0</td>\n",
       "      <td>0</td>\n",
       "      <td>9</td>\n",
       "      <td>0</td>\n",
       "      <td>...</td>\n",
       "      <td>0</td>\n",
       "      <td>0</td>\n",
       "      <td>109</td>\n",
       "      <td>50</td>\n",
       "      <td>0</td>\n",
       "      <td>31</td>\n",
       "      <td>0</td>\n",
       "      <td>293.0</td>\n",
       "      <td>0.0</td>\n",
       "      <td>0.0</td>\n",
       "    </tr>\n",
       "    <tr>\n",
       "      <th>2</th>\n",
       "      <td>16.85</td>\n",
       "      <td>5</td>\n",
       "      <td>0</td>\n",
       "      <td>2</td>\n",
       "      <td>28</td>\n",
       "      <td>0</td>\n",
       "      <td>0</td>\n",
       "      <td>3</td>\n",
       "      <td>48</td>\n",
       "      <td>0</td>\n",
       "      <td>...</td>\n",
       "      <td>0</td>\n",
       "      <td>0</td>\n",
       "      <td>74</td>\n",
       "      <td>3</td>\n",
       "      <td>72</td>\n",
       "      <td>181</td>\n",
       "      <td>0</td>\n",
       "      <td>426.0</td>\n",
       "      <td>0.0</td>\n",
       "      <td>0.0</td>\n",
       "    </tr>\n",
       "    <tr>\n",
       "      <th>3</th>\n",
       "      <td>17.89</td>\n",
       "      <td>3</td>\n",
       "      <td>0</td>\n",
       "      <td>5</td>\n",
       "      <td>37</td>\n",
       "      <td>0</td>\n",
       "      <td>0</td>\n",
       "      <td>0</td>\n",
       "      <td>59</td>\n",
       "      <td>0</td>\n",
       "      <td>...</td>\n",
       "      <td>0</td>\n",
       "      <td>0</td>\n",
       "      <td>57</td>\n",
       "      <td>7</td>\n",
       "      <td>67</td>\n",
       "      <td>198</td>\n",
       "      <td>0</td>\n",
       "      <td>444.0</td>\n",
       "      <td>0.0</td>\n",
       "      <td>0.0</td>\n",
       "    </tr>\n",
       "    <tr>\n",
       "      <th>4</th>\n",
       "      <td>18.91</td>\n",
       "      <td>0</td>\n",
       "      <td>3</td>\n",
       "      <td>7</td>\n",
       "      <td>66</td>\n",
       "      <td>0</td>\n",
       "      <td>0</td>\n",
       "      <td>1</td>\n",
       "      <td>30</td>\n",
       "      <td>0</td>\n",
       "      <td>...</td>\n",
       "      <td>0</td>\n",
       "      <td>0</td>\n",
       "      <td>28</td>\n",
       "      <td>22</td>\n",
       "      <td>285</td>\n",
       "      <td>211</td>\n",
       "      <td>0</td>\n",
       "      <td>401.0</td>\n",
       "      <td>0.0</td>\n",
       "      <td>0.0</td>\n",
       "    </tr>\n",
       "    <tr>\n",
       "      <th>5</th>\n",
       "      <td>19.31</td>\n",
       "      <td>0</td>\n",
       "      <td>0</td>\n",
       "      <td>5</td>\n",
       "      <td>84</td>\n",
       "      <td>0</td>\n",
       "      <td>0</td>\n",
       "      <td>2</td>\n",
       "      <td>51</td>\n",
       "      <td>0</td>\n",
       "      <td>...</td>\n",
       "      <td>0</td>\n",
       "      <td>0</td>\n",
       "      <td>39</td>\n",
       "      <td>18</td>\n",
       "      <td>307</td>\n",
       "      <td>302</td>\n",
       "      <td>0</td>\n",
       "      <td>621.0</td>\n",
       "      <td>0.0</td>\n",
       "      <td>0.0</td>\n",
       "    </tr>\n",
       "  </tbody>\n",
       "</table>\n",
       "<p>5 rows × 109 columns</p>\n",
       "</div>"
      ],
      "text/plain": [
       "   Depth Indeterminate Conifer Abies Picea Pinus Pinus (white) Ephedra  \\\n",
       "1   9.43                     7     0     0    25             0       0   \n",
       "2  16.85                     5     0     2    28             0       0   \n",
       "3  17.89                     3     0     5    37             0       0   \n",
       "4  18.91                     0     3     7    66             0       0   \n",
       "5  19.31                     0     0     5    84             0       0   \n",
       "\n",
       "  Pseudotsuga TCT Juniperus/Cupressus  ... Unknown E Unknown F Indeterminate  \\\n",
       "1           0   9                   0  ...         0         0           109   \n",
       "2           3  48                   0  ...         0         0            74   \n",
       "3           0  59                   0  ...         0         0            57   \n",
       "4           1  30                   0  ...         0         0            28   \n",
       "5           2  51                   0  ...         0         0            39   \n",
       "\n",
       "  Other unknowns  Zea Lycopodium APFAC  Total  0.0  0.0  \n",
       "1             50    0         31     0  293.0  0.0  0.0  \n",
       "2              3   72        181     0  426.0  0.0  0.0  \n",
       "3              7   67        198     0  444.0  0.0  0.0  \n",
       "4             22  285        211     0  401.0  0.0  0.0  \n",
       "5             18  307        302     0  621.0  0.0  0.0  \n",
       "\n",
       "[5 rows x 109 columns]"
      ]
     },
     "execution_count": 8,
     "metadata": {},
     "output_type": "execute_result"
    }
   ],
   "source": [
    "mcounts_clean.head()"
   ]
  },
  {
   "cell_type": "code",
   "execution_count": 9,
   "metadata": {},
   "outputs": [
    {
     "data": {
      "text/html": [
       "<div>\n",
       "<style scoped>\n",
       "    .dataframe tbody tr th:only-of-type {\n",
       "        vertical-align: middle;\n",
       "    }\n",
       "\n",
       "    .dataframe tbody tr th {\n",
       "        vertical-align: top;\n",
       "    }\n",
       "\n",
       "    .dataframe thead th {\n",
       "        text-align: right;\n",
       "    }\n",
       "</style>\n",
       "<table border=\"1\" class=\"dataframe\">\n",
       "  <thead>\n",
       "    <tr style=\"text-align: right;\">\n",
       "      <th></th>\n",
       "      <th>Depth</th>\n",
       "      <th>Abies</th>\n",
       "      <th>Picea</th>\n",
       "      <th>Pinus</th>\n",
       "      <th>Pinus (white)</th>\n",
       "      <th>Ephedra</th>\n",
       "      <th>Pseudotsuga</th>\n",
       "      <th>TCT</th>\n",
       "      <th>Juniperus/Cupressus</th>\n",
       "      <th>Tsuga mertensiana</th>\n",
       "      <th>...</th>\n",
       "      <th>Unknown C</th>\n",
       "      <th>Unknown D</th>\n",
       "      <th>Unknown E</th>\n",
       "      <th>Unknown F</th>\n",
       "      <th>Indeterminate</th>\n",
       "      <th>Other unknowns</th>\n",
       "      <th>Zea</th>\n",
       "      <th>Lycopodium</th>\n",
       "      <th>APFAC</th>\n",
       "      <th>Total</th>\n",
       "    </tr>\n",
       "  </thead>\n",
       "  <tbody>\n",
       "    <tr>\n",
       "      <th>1</th>\n",
       "      <td>13.64</td>\n",
       "      <td>0</td>\n",
       "      <td>0</td>\n",
       "      <td>54</td>\n",
       "      <td>0</td>\n",
       "      <td>0</td>\n",
       "      <td>1</td>\n",
       "      <td>0</td>\n",
       "      <td>8</td>\n",
       "      <td>25</td>\n",
       "      <td>...</td>\n",
       "      <td>0</td>\n",
       "      <td>0</td>\n",
       "      <td>0</td>\n",
       "      <td>0</td>\n",
       "      <td>15</td>\n",
       "      <td>24</td>\n",
       "      <td>560</td>\n",
       "      <td>241</td>\n",
       "      <td>2085</td>\n",
       "      <td>422.0</td>\n",
       "    </tr>\n",
       "    <tr>\n",
       "      <th>2</th>\n",
       "      <td>14.56</td>\n",
       "      <td>1</td>\n",
       "      <td>0</td>\n",
       "      <td>55</td>\n",
       "      <td>0</td>\n",
       "      <td>0</td>\n",
       "      <td>1</td>\n",
       "      <td>26</td>\n",
       "      <td>5</td>\n",
       "      <td>0</td>\n",
       "      <td>...</td>\n",
       "      <td>0</td>\n",
       "      <td>0</td>\n",
       "      <td>0</td>\n",
       "      <td>0</td>\n",
       "      <td>26</td>\n",
       "      <td>30</td>\n",
       "      <td>310</td>\n",
       "      <td>223</td>\n",
       "      <td>2085</td>\n",
       "      <td>477.0</td>\n",
       "    </tr>\n",
       "    <tr>\n",
       "      <th>3</th>\n",
       "      <td>15.51</td>\n",
       "      <td>4</td>\n",
       "      <td>0</td>\n",
       "      <td>60</td>\n",
       "      <td>0</td>\n",
       "      <td>0</td>\n",
       "      <td>0</td>\n",
       "      <td>34</td>\n",
       "      <td>5</td>\n",
       "      <td>3</td>\n",
       "      <td>...</td>\n",
       "      <td>0</td>\n",
       "      <td>0</td>\n",
       "      <td>0</td>\n",
       "      <td>0</td>\n",
       "      <td>26</td>\n",
       "      <td>17</td>\n",
       "      <td>258</td>\n",
       "      <td>207</td>\n",
       "      <td>2085</td>\n",
       "      <td>561.0</td>\n",
       "    </tr>\n",
       "    <tr>\n",
       "      <th>4</th>\n",
       "      <td>16.48</td>\n",
       "      <td>5</td>\n",
       "      <td>1</td>\n",
       "      <td>69</td>\n",
       "      <td>0</td>\n",
       "      <td>0</td>\n",
       "      <td>0</td>\n",
       "      <td>39</td>\n",
       "      <td>3</td>\n",
       "      <td>1</td>\n",
       "      <td>...</td>\n",
       "      <td>0</td>\n",
       "      <td>0</td>\n",
       "      <td>0</td>\n",
       "      <td>0</td>\n",
       "      <td>0</td>\n",
       "      <td>0</td>\n",
       "      <td>288</td>\n",
       "      <td>231</td>\n",
       "      <td>2085</td>\n",
       "      <td>486.0</td>\n",
       "    </tr>\n",
       "    <tr>\n",
       "      <th>5</th>\n",
       "      <td>17.07</td>\n",
       "      <td>0</td>\n",
       "      <td>1</td>\n",
       "      <td>113</td>\n",
       "      <td>0</td>\n",
       "      <td>0</td>\n",
       "      <td>1</td>\n",
       "      <td>37</td>\n",
       "      <td>7</td>\n",
       "      <td>0</td>\n",
       "      <td>...</td>\n",
       "      <td>0</td>\n",
       "      <td>0</td>\n",
       "      <td>0</td>\n",
       "      <td>0</td>\n",
       "      <td>17</td>\n",
       "      <td>11</td>\n",
       "      <td>367</td>\n",
       "      <td>136</td>\n",
       "      <td>2085</td>\n",
       "      <td>531.0</td>\n",
       "    </tr>\n",
       "  </tbody>\n",
       "</table>\n",
       "<p>5 rows × 106 columns</p>\n",
       "</div>"
      ],
      "text/plain": [
       "   Depth Abies Picea Pinus Pinus (white) Ephedra Pseudotsuga TCT  \\\n",
       "1  13.64     0     0    54             0       0           1   0   \n",
       "2  14.56     1     0    55             0       0           1  26   \n",
       "3  15.51     4     0    60             0       0           0  34   \n",
       "4  16.48     5     1    69             0       0           0  39   \n",
       "5  17.07     0     1   113             0       0           1  37   \n",
       "\n",
       "  Juniperus/Cupressus Tsuga mertensiana  ... Unknown C Unknown D Unknown E  \\\n",
       "1                   8                25  ...         0         0         0   \n",
       "2                   5                 0  ...         0         0         0   \n",
       "3                   5                 3  ...         0         0         0   \n",
       "4                   3                 1  ...         0         0         0   \n",
       "5                   7                 0  ...         0         0         0   \n",
       "\n",
       "  Unknown F Indeterminate Other unknowns  Zea Lycopodium APFAC  Total  \n",
       "1         0            15             24  560        241  2085  422.0  \n",
       "2         0            26             30  310        223  2085  477.0  \n",
       "3         0            26             17  258        207  2085  561.0  \n",
       "4         0             0              0  288        231  2085  486.0  \n",
       "5         0            17             11  367        136  2085  531.0  \n",
       "\n",
       "[5 rows x 106 columns]"
      ]
     },
     "execution_count": 9,
     "metadata": {},
     "output_type": "execute_result"
    }
   ],
   "source": [
    "rcounts_clean.head()"
   ]
  },
  {
   "cell_type": "markdown",
   "metadata": {},
   "source": [
    "Make a list of every species included on a standard pollen count sheet, but drop the ones which appeared in neither set. Certain species should not appear here, as the sets come from a very particular geographic region."
   ]
  },
  {
   "cell_type": "code",
   "execution_count": 10,
   "metadata": {},
   "outputs": [],
   "source": [
    "species = ['Abies','Picea','Pinus','Pinus (white)','Ephedra','Pseudotsuga','TCT','Juniperus/Cupressus','Tsuga mertensiana','Tsuga heterophylla','Acer','Acer negundo','Quercus','Q. chrysolepis/Q. vaccinifolia','Aesculus','Lithocarpus/Castanopsis','Fraxinus','Juglans','Garrya','Platanus','Fremontia','Rosaceae','Adenostoma','Cercocarpus','Rhamnaceae','Ceanothus','Cephalanthus','Sambucus','Shepherdia','Elaeagnus','Sanguisorba','Ribes','Purshia','Salix','Myrica','Corylus','Alnus','Artemisia','Ambrosia','Liguliflorae','Compositae HS','Compositae LS','Ericaceae','Linaceae','Cruciferae','Arceuthobium','Caryophyllaceae','Malvaceae','Liliaceae','Leguminosae','Onagraceae','Labiatae','Salvia','Eriogonum','Polygonum amphibium','Polygonum californica','Vitis','Plantago','Polemoniaceae','Navarettia','Ranunculaceae','Umbelliferae','Rubiaceae','Thalictrum','Rhus','Lonicera','Amaranthaceae','Sarcobatus','Poaceae','Cyperaceae','Typha latifolia','Typha/Sparganium','Potamogeton','Isoetes','Equisetum','Myriophyllum','Ruppia','Nuphar hydropotes','Nuphar','Brasenia','Menyanthes','Dryopteris','Polypodium','Pteridium','Botrychium','Athyrium','Polystichum','Selaginella','Trilete','Monolete','Colonial fungi','Coprophilous fungi','Unknown A','Unknown B','Unknown C','Unknown D','Unknown E','Unknown F','Indeterminate','Other unknowns','Zea','Lycopodium']"
   ]
  },
  {
   "cell_type": "code",
   "execution_count": 11,
   "metadata": {},
   "outputs": [],
   "source": [
    "##remove columns where neither count has any values, prevent NaN errors later on\n",
    "for i in species:\n",
    "    for x in range(1,25):\n",
    "        if mcounts_clean[i][x]==0 and rcounts_clean[i][x] == 0:\n",
    "            mcounts_clean = mcounts_clean.drop(i,axis=1)\n",
    "            rcounts_clean = rcounts_clean.drop(i,axis=1)\n",
    "        elif mcounts_clean[i][x] != 0:\n",
    "            mcounts_clean\n",
    "        elif rcounts_clean[i][x] != 0:\n",
    "            rcounts_clean\n",
    "        else:\n",
    "            print(\"Uh oh\")"
   ]
  },
  {
   "cell_type": "markdown",
   "metadata": {},
   "source": [
    "Step 3: Graph and format both data sets with an age-depth model, looking for discrepancies. Presenting this data nicely enough for a poster or published paper should be non-trivial."
   ]
  },
  {
   "cell_type": "markdown",
   "metadata": {},
   "source": [
    "This graphing process is incredibly useful not only for this project, but any future pollen counts as well. This is the first Python method for graphing pollen counts/stratigraphic diagrams used in my lab. The design process was non-trivial for a beginning Python user, since it had to be done in a way that made the plots easily manipulatable. Notice the NOTES below, which explain how to easily look at any chosen genera from either data set by adjusting two lists, 'geni_m' and 'geni_r'."
   ]
  },
  {
   "cell_type": "markdown",
   "metadata": {},
   "source": [
    "**NOTE: Fill geni_n = [ ] with genus names you want to plot as strings.\n",
    "\n",
    "For the sake of the project, this example include the confiers counted, but any selection could be graphed under this set up. Notice that genera are color coded by climate type. An increase in conifers is associated with cooling in this region, so they are considered \"cool types\" and are ploted in blue. This is inetractive-- feel free to play around with it and see what happens to a warm type like Quercus (Oak) as compared to cool conifers."
   ]
  },
  {
   "cell_type": "markdown",
   "metadata": {},
   "source": [
    "# Data Visualization 1"
   ]
  },
  {
   "cell_type": "markdown",
   "metadata": {},
   "source": [
    "**NOTE: Set data = rcounts_clean, or data = mcounts_clean to specify which data set you want to visualize. These are essentially complicated hypsometric curves."
   ]
  },
  {
   "cell_type": "code",
   "execution_count": 81,
   "metadata": {},
   "outputs": [],
   "source": [
    "##chose which species to plot by listing them in geni = []\n",
    "geni_m = [\"Indeterminate Conifer\",\"Abies\",\"Pinus\",\"Picea\",\"Juniperus/Cupressus\",\"Tsuga mertensiana\",\"Tsuga heterophylla\"]\n",
    "\n",
    "climate_types = {}\n",
    "geni_warm = [\"Quercus\"]\n",
    "geni_cold = [\"Abies\",\"Pinus\",\"Picea\",\"Juniperus/Cupressus\",\"Tsuga mertensiana\",\"Tsuga heterophylla\",\"Indeterminate Conifer\"]\n",
    "geni_other = [\"Acer\"]\n",
    "\n",
    "for genus in geni_warm:\n",
    "    climate_types[genus]=0\n",
    "    \n",
    "for genus in geni_cold:\n",
    "    climate_types[genus]=1\n",
    "    \n",
    "for genus in geni_other:\n",
    "    climate_types[genus]=2"
   ]
  },
  {
   "cell_type": "markdown",
   "metadata": {},
   "source": [
    "This code cell is currently graphing the mcounts dataset."
   ]
  },
  {
   "cell_type": "code",
   "execution_count": 65,
   "metadata": {},
   "outputs": [
    {
     "data": {
      "image/png": "[encoded data removed]",
      "text/plain": [
       "<Figure size 1440x576 with 7 Axes>"
      ]
     },
     "metadata": {
      "needs_background": "light"
     },
     "output_type": "display_data"
    }
   ],
   "source": [
    "###select which df or data set to operate on\n",
    "data = mcounts_clean\n",
    "\n",
    "#this graphs subplots for each listed species and formats the image\n",
    "\n",
    "ncols = len(geni_m)\n",
    "\n",
    "fig, axs = plt.subplots(1, ncols, sharey= True, sharex = True, figsize = (20,8))\n",
    "\n",
    "for i,ax in enumerate(axs.ravel()):\n",
    "    ax.spines['top'].set_visible(False)\n",
    "    ax.spines['right'].set_visible(False)\n",
    "    if i > 0:\n",
    "        ax.get_yaxis().set_visible(False)\n",
    "        ax.spines['left'].set_visible(False)\n",
    "        ax.spines['right'].set_visible(False)\n",
    "\n",
    "    genus = geni_m[i]\n",
    "    ##prevent errors from arising with mcounts data set\n",
    "    mcounts_clean[genus] = mcounts_clean[genus].apply(float)\n",
    "    \n",
    "    if genus not in climate_types.keys():\n",
    "        col='green' \n",
    "    elif climate_types[genus]==0:\n",
    "        col='red'\n",
    "    elif climate_types[genus]==1:\n",
    "        col='blue'\n",
    "    \n",
    "    ax.plot(data[genus]/data[\"Total\"],data[\"Depth\"], color = col)\n",
    "    ax.set_title(genus, fontsize=16, rotation = 45)\n",
    "    \n",
    "    space_x = plticker.MultipleLocator(base=.1) # this locator puts ticks at regular intervals\n",
    "    ax.xaxis.set_major_locator(space_x)\n",
    "    \n",
    "    space_y = plticker.MultipleLocator(base=1.5) # this locator puts ticks at regular intervals\n",
    "    ax.yaxis.set_major_locator(space_y)\n",
    "    \n",
    "    ax.set_ylabel(\"Depth (m)\")\n",
    "    ax.set_xlabel(\"Percent\")\n",
    "    \n",
    "    for tick in ax.xaxis.get_major_ticks():\n",
    "        tick.label.set_fontsize(12) \n",
    "    \n",
    "    for tick in ax.yaxis.get_major_ticks():\n",
    "        tick.label.set_fontsize(12) "
   ]
  },
  {
   "cell_type": "markdown",
   "metadata": {},
   "source": [
    "This is more of the same/similar code, but now I'm graphing the other dataset: rcounts."
   ]
  },
  {
   "cell_type": "code",
   "execution_count": 14,
   "metadata": {},
   "outputs": [],
   "source": [
    "##chose which species to plot by listing them in geni = []\n",
    "geni_r = [\"Abies\",\"Pinus\",\"Picea\",\"Juniperus/Cupressus\",\"Tsuga mertensiana\",\"Tsuga heterophylla\"]"
   ]
  },
  {
   "cell_type": "code",
   "execution_count": 15,
   "metadata": {},
   "outputs": [
    {
     "data": {
      "image/png": "[encoded data removed]",
      "text/plain": [
       "<Figure size 1440x576 with 6 Axes>"
      ]
     },
     "metadata": {
      "needs_background": "light"
     },
     "output_type": "display_data"
    }
   ],
   "source": [
    "###select which df or data set to operate on\n",
    "##let data = rcounts this time and compare it to the above mcounts graphs\n",
    "data = rcounts_clean\n",
    "\n",
    "#this graphs subplots for each listed species and formats the image\n",
    "\n",
    "ncols = len(geni_r)\n",
    "\n",
    "fig, axs = plt.subplots(1, ncols, sharey= True, sharex = True, figsize = (20,8))\n",
    "\n",
    "for i,ax in enumerate(axs.ravel()):\n",
    "    ax.spines['top'].set_visible(False)\n",
    "    ax.spines['right'].set_visible(False)\n",
    "    if i > 0:\n",
    "        ax.get_yaxis().set_visible(False)\n",
    "        ax.spines['left'].set_visible(False)\n",
    "        ax.spines['right'].set_visible(False)\n",
    "\n",
    "    genus = geni_r[i]\n",
    "    ##prevent errors from arising with mcounts data set\n",
    "    rcounts_clean[genus] = rcounts_clean[genus].apply(float)\n",
    "    \n",
    "    if genus not in climate_types.keys():\n",
    "        col='green' \n",
    "    elif climate_types[genus]==0:\n",
    "        col='red'\n",
    "    elif climate_types[genus]==1:\n",
    "        col='blue'\n",
    "    \n",
    "    ax.plot(data[genus]/data[\"Total\"],data[\"Depth\"], color = col)\n",
    "    plt.gca().invert_yaxis()\n",
    "    #    ax.invert_yaxis()\n",
    "    ax.set_title(genus, fontsize=16, rotation = 45)\n",
    "    \n",
    "    space_x = plticker.MultipleLocator(base=.1) # this locator puts ticks at regular intervals\n",
    "    ax.xaxis.set_major_locator(space_x)\n",
    "    \n",
    "    space_y = plticker.MultipleLocator(base=1.5) # this locator puts ticks at regular intervals\n",
    "    ax.yaxis.set_major_locator(space_y)\n",
    "    \n",
    "    ax.set_ylabel(\"Depth (m)\")\n",
    "    ax.set_xlabel(\"Percent\")\n",
    "    \n",
    "    for tick in ax.xaxis.get_major_ticks():\n",
    "        tick.label.set_fontsize(12) \n",
    "    \n",
    "    for tick in ax.yaxis.get_major_ticks():\n",
    "        tick.label.set_fontsize(12) "
   ]
  },
  {
   "cell_type": "markdown",
   "metadata": {},
   "source": [
    "Step 4: Isolate any individual discrepancies between the data sets and attempt to explain them. Find ways of comparing count distributions. What does each set have relatively more/less of? "
   ]
  },
  {
   "cell_type": "markdown",
   "metadata": {},
   "source": [
    "Start by considering the difference between the ways conifer sets were counted. This is a significant comparison because conifer pollen is distinct, abundant, and easily identifiable. Both datasets counted lots of conifer pollen."
   ]
  },
  {
   "cell_type": "code",
   "execution_count": 16,
   "metadata": {},
   "outputs": [
    {
     "name": "stdout",
     "output_type": "stream",
     "text": [
      "RCOUNT COL SUMS\n",
      "Abies 301.0\n",
      "Pinus 7425.0\n",
      "Picea 83.0\n",
      "Juniperus/Cupressus 1732.0\n",
      "Tsuga mertensiana 95.0\n",
      "Tsuga heterophylla 75.0\n",
      "MCOUNT COL SUMS\n",
      "Indeterminate Conifer 374.0\n",
      "Abies 179.0\n",
      "Pinus 2786.0\n",
      "Picea 319.0\n",
      "Juniperus/Cupressus 0.0\n",
      "Tsuga mertensiana 58.0\n",
      "Tsuga heterophylla 19.0\n"
     ]
    }
   ],
   "source": [
    "###find the % of total conifer pollen that went to each genus for r and m:\n",
    "print('RCOUNT COL SUMS')\n",
    "for i in geni_r:\n",
    "    col_sum_r = rcounts_clean.sum(axis=0)[i]\n",
    "    print(i, col_sum_r)\n",
    "    \n",
    "print('MCOUNT COL SUMS')\n",
    "for i in geni_m:\n",
    "    col_sum_m = mcounts_clean.sum(axis=0)[i]\n",
    "    print(i, col_sum_m)"
   ]
  },
  {
   "cell_type": "markdown",
   "metadata": {},
   "source": [
    "It looks like way more pollen was counted in the mcounts set than in the rcounts set, and at more depths. I think the sets will only be comparable using normed values. "
   ]
  },
  {
   "cell_type": "markdown",
   "metadata": {},
   "source": [
    "# Data Visualization 2"
   ]
  },
  {
   "cell_type": "markdown",
   "metadata": {},
   "source": [
    "Visualize the normalized distribution of conifer counts with a pie chart. Were the same relative abundances visible in each dataset? If not, how were they different and is this consistent with any one explanation? Find the percent of total conifer pollen that went to each genus for r and m:"
   ]
  },
  {
   "cell_type": "code",
   "execution_count": 17,
   "metadata": {},
   "outputs": [
    {
     "data": {
      "image/png": "[encoded data removed]",
      "text/plain": [
       "<Figure size 576x576 with 1 Axes>"
      ]
     },
     "metadata": {},
     "output_type": "display_data"
    }
   ],
   "source": [
    "###RCOUNTS CONIFER\n",
    "conifers_r = [\"Abies\",\"Pinus\",\"Picea\",\"Juniperus/Cupressus\",\"Tsuga mertensiana\",\"Tsuga heterophylla\"]\n",
    "total_conifer_r = np.sum(np.sum(rcounts_clean[conifers_r]))\n",
    "\n",
    "#throughout the core, see how the conifer type breakdown\n",
    "type_percents_r = []\n",
    "for tree in conifers_r:\n",
    "    type_percents_ = (np.sum(rcounts_clean[tree]))/(total_conifer_r)\n",
    "    type_percents_r.append(type_percents_)\n",
    "    \n",
    "type_percents_r = np.array(type_percents_r)\n",
    "\n",
    "cr=cm.Set1(np.arange(6)/6.)\n",
    "fig1, ax1 = plt.subplots(figsize = (8,8))\n",
    "ax1.pie(type_percents_r, labels=conifers_r,startangle=180,autopct='%1.1f%%', colors=cr)\n",
    "ax1.axis('equal')\n",
    "\n",
    "plt.title('Ratio of Conifer Types Counted')\n",
    "\n",
    "plt.show()"
   ]
  },
  {
   "cell_type": "code",
   "execution_count": 18,
   "metadata": {},
   "outputs": [
    {
     "data": {
      "image/png": "[encoded data removed]",
      "text/plain": [
       "<Figure size 576x576 with 1 Axes>"
      ]
     },
     "metadata": {},
     "output_type": "display_data"
    }
   ],
   "source": [
    "###MCOUNTS CONIFER\n",
    "conifers_m = [\"Indeterminate Conifer\",\"Abies\",\"Pinus\",\"Picea\",\"Tsuga mertensiana\",\"Tsuga heterophylla\"]\n",
    "total_conifer_m = np.sum(np.sum(mcounts_clean[conifers_m]))\n",
    "\n",
    "#throughout the core, see how the conifer type breakdown\n",
    "type_percents_m = []\n",
    "for tree in conifers_m:\n",
    "    type_percents = (np.sum(mcounts_clean[tree]))/(total_conifer_m)\n",
    "    type_percents_m.append(type_percents)\n",
    "    \n",
    "type_percents_m = np.array(type_percents_m)\n",
    "\n",
    "cs=cm.Set1(np.arange(6)/6.)\n",
    "fig1, ax1 = plt.subplots(figsize = (8,8))\n",
    "ax1.pie(type_percents_m, labels=conifers_m,startangle=180,autopct='%1.1f%%', colors=cs)\n",
    "ax1.axis('equal')\n",
    "\n",
    "plt.title('Ratio of Conifer Types Counted')\n",
    "\n",
    "plt.show()"
   ]
  },
  {
   "cell_type": "markdown",
   "metadata": {},
   "source": [
    "Surprisingly, both sets have very similar amounts of pinus as a percent of the total confifer present. Looking at conifer pollen, at least the identification of pinus appears to be consistent in both sets. That bodes well for their overall accuracy since pine is such a large fraction of the pollen counted."
   ]
  },
  {
   "cell_type": "markdown",
   "metadata": {},
   "source": [
    "# Data Visualization 3 & 3.5"
   ]
  },
  {
   "cell_type": "markdown",
   "metadata": {},
   "source": [
    "NOTE: There are only so many relevant ways to visualize this data for the sake of the questions being asked. The first image is a modified version of the more standard pollen diagrams above that allows us to see the sets together for a better comparison, and the second was an informative attempt to model overall pollen deposition rates visually."
   ]
  },
  {
   "cell_type": "markdown",
   "metadata": {},
   "source": [
    "Step 5: Compare overall trends in the data sets, is there a pattern to the discrepancies?"
   ]
  },
  {
   "cell_type": "markdown",
   "metadata": {},
   "source": [
    "Overlay the two normalized datasets in order to visualize the differences in distributions. Note that we can only compare the distributions for categories which were the same across the sets, so this comparison is limted."
   ]
  },
  {
   "cell_type": "code",
   "execution_count": 19,
   "metadata": {},
   "outputs": [
    {
     "data": {
      "image/png": "[encoded data removed]",
      "text/plain": [
       "<Figure size 1440x576 with 5 Axes>"
      ]
     },
     "metadata": {
      "needs_background": "light"
     },
     "output_type": "display_data"
    }
   ],
   "source": [
    "###graph mcounts and rcounts over each other to compare distribution shapes\n",
    "\n",
    "geni_compare = ['Abies','Pinus','Picea',\"Tsuga mertensiana\",\"Tsuga heterophylla\"]\n",
    "ncols = len(geni_compare)\n",
    "\n",
    "fig, axs = plt.subplots(1, ncols, sharey= True, sharex = True, figsize = (20,8))\n",
    "\n",
    "for i,ax in enumerate(axs.ravel()):\n",
    "    ax.spines['top'].set_visible(False)\n",
    "    ax.spines['right'].set_visible(False)\n",
    "    if i > 0:\n",
    "        ax.get_yaxis().set_visible(False)\n",
    "        ax.spines['left'].set_visible(False)\n",
    "        ax.spines['right'].set_visible(False)\n",
    "\n",
    "    genus = geni_compare[i]\n",
    "    ##prevent errors from arising with mcounts data set\n",
    "    rcounts_clean[genus] = rcounts_clean[genus].apply(float)\n",
    "    \n",
    "    ax.scatter(mcounts_clean[genus]/mcounts_clean[\"Total\"],mcounts_clean[\"Depth\"], color = 'black')\n",
    "    #ax.scatter(mcounts_clean[genus],mcounts_clean[\"Depth\"], color = 'black')\n",
    "    ax.scatter(rcounts_clean[genus]/rcounts_clean[\"Total\"],rcounts_clean[\"Depth\"], color = 'purple')\n",
    "    #ax.scatter(rcounts_clean[genus],rcounts_clean[\"Depth\"], color = 'purple')\n",
    "\n",
    "    ax.set_title(genus, fontsize=16, rotation = 45)\n",
    "    ax.invert_yaxis()\n",
    "    \n",
    "    ax.set_ylabel(\"Depth (m)\")\n",
    "    ax.set_xlabel(\"Grains counted by depth\")\n",
    "    \n",
    "    space_x = plticker.MultipleLocator(base=.1) # this locator puts ticks at regular intervals\n",
    "    ax.xaxis.set_major_locator(space_x)\n",
    "    \n",
    "    space_y = plticker.MultipleLocator(base=1.5) # this locator puts ticks at regular intervals\n",
    "    ax.yaxis.set_major_locator(space_y)"
   ]
  },
  {
   "cell_type": "markdown",
   "metadata": {},
   "source": [
    "Compare the overall pollen deposition rates. If both samples are represntatve, then these plots should look similar regardless of misidentification. This is useful to us because although it misses the detail of the genus level distributions above, it includes types which were different between the two datasets giving a fuller picture of the abundances at each depth."
   ]
  },
  {
   "cell_type": "code",
   "execution_count": 88,
   "metadata": {},
   "outputs": [
    {
     "data": {
      "image/png": "[encoded data removed]",
      "text/plain": [
       "<Figure size 432x288 with 1 Axes>"
      ]
     },
     "metadata": {
      "needs_background": "light"
     },
     "output_type": "display_data"
    }
   ],
   "source": [
    "# ###Function for plotting relative pollen amount at each depth. These should ideally be the same across any two\n",
    "# ####samples as long as pollen was being counted, regardless of misidentification\n",
    "# plot what percent of the total pollen counted was present at each depth (by sample)\n",
    "# ###graph mcounts and rcounts over each other to compare distribution shapes\n",
    "\n",
    "r = rcounts_clean[\"Total\"] / (np.sum(rcounts_clean[\"Total\"]))   \n",
    "m = mcounts_clean[\"Total\"] / (np.sum(mcounts_clean[\"Total\"]))\n",
    "\n",
    "rcounts_clean[genus] = rcounts_clean[genus].apply(float)\n",
    "    \n",
    "plt.plot((r * 100), rcounts_clean[\"Depth\"], label = 'rcounts', color='purple')\n",
    "plt.plot((m * 100), mcounts_clean[\"Depth\"], label = 'mcounts', color='black')\n",
    "ax.invert_yaxis()\n",
    "ax.set_title(genus, fontsize=16, rotation = 45)\n",
    "\n",
    "#boring formatting stuff\n",
    "##NOTE TO SELF try integrating under each curve and checking that it equals 100%\n",
    "plt.ylim(13,35)\n",
    "plt.xlabel('% of amount counted')\n",
    "plt.ylabel('Depth')\n",
    "plt.title('% of total pollen grains counted at each depth')\n",
    "plt.legend(loc = 4)\n",
    "    \n",
    "ax.set_ylabel(\"Depth (m)\")\n",
    "ax.set_xlabel(\"Grains counted by depth\")\n",
    "    \n",
    "space_x = plticker.MultipleLocator(base=.1) # this locator puts ticks at regular intervals\n",
    "ax.xaxis.set_major_locator(space_x)\n",
    "    \n",
    "space_y = plticker.MultipleLocator(base=1.5) # this locator puts ticks at regular intervals\n",
    "ax.yaxis.set_major_locator(space_y)"
   ]
  },
  {
   "cell_type": "markdown",
   "metadata": {},
   "source": [
    "It looks like mcounts has a consistently higher fraction of its grains counted at these depths. Part of this is because rcounts has data for more depths. This is an important point to note that I wished I had realized sooner, as it may have led me to consider different comparison metrics."
   ]
  },
  {
   "cell_type": "markdown",
   "metadata": {},
   "source": [
    "Step 6: Perform a statistical comparison to see how similar the data sets are. Answer the question: is the margin of error negligible or not?"
   ]
  },
  {
   "cell_type": "markdown",
   "metadata": {},
   "source": [
    "First, visualize how different a genus with clear variation between the two sets is. Pull out the graph of pine. This is done by modifying the graphs from above again. A scatter plot lets us see the outliers more clearly."
   ]
  },
  {
   "cell_type": "code",
   "execution_count": 73,
   "metadata": {},
   "outputs": [
    {
     "data": {
      "text/plain": [
       "Text(0.5, 0, 'Grains counted by depth')"
      ]
     },
     "execution_count": 73,
     "metadata": {},
     "output_type": "execute_result"
    },
    {
     "data": {
      "image/png": "[encoded data removed]",
      "text/plain": [
       "<Figure size 216x576 with 1 Axes>"
      ]
     },
     "metadata": {
      "needs_background": "light"
     },
     "output_type": "display_data"
    }
   ],
   "source": [
    "plt.figure(figsize = (3,8))\n",
    "\n",
    "plt.scatter(mcounts_clean['Pinus']/mcounts_clean[\"Total\"],mcounts_clean[\"Depth\"], color = 'black', label='mcounts')\n",
    "#ax.scatter(mcounts_clean[genus],mcounts_clean[\"Depth\"], color = 'black')\n",
    "plt.scatter(rcounts_clean['Pinus']/rcounts_clean[\"Total\"],rcounts_clean[\"Depth\"], color = 'purple', label='rcounts')\n",
    "#ax.scatter(rcounts_clean[genus],rcounts_clean[\"Depth\"], color = 'purple')\n",
    "\n",
    "plt.title('Pinus', fontsize=16)\n",
    "plt.ylim(9,35)\n",
    "plt.xlim(0,0.7)\n",
    "plt.legend()\n",
    "\n",
    "plt.gca().invert_yaxis()\n",
    "\n",
    "space_x = plticker.MultipleLocator(base=.1) # this locator puts ticks at regular intervals\n",
    "ax.xaxis.set_major_locator(space_x)\n",
    "    \n",
    "space_y = plticker.MultipleLocator(base=1.5) # this locator puts ticks at regular intervals\n",
    "ax.yaxis.set_major_locator(space_y)\n",
    "    \n",
    "plt.ylabel(\"Depth (m)\")\n",
    "plt.xlabel(\"Grains counted by depth\")"
   ]
  },
  {
   "cell_type": "markdown",
   "metadata": {},
   "source": [
    "# Data Analysis 1"
   ]
  },
  {
   "cell_type": "markdown",
   "metadata": {},
   "source": [
    "Linear regression plots can only yield so much information when based on one variable. What might be more informative is a Multiple Linear Regression plot, where more than one variable is considered in the plot. However, the functions which would help me do this require a totally different data set up from the one I intially created for stratigraphic diagrams! Too bad, this seems to be a common problem in data science, I'll get over it. Time to set up an appropriate dataframe for this purpose."
   ]
  },
  {
   "cell_type": "markdown",
   "metadata": {},
   "source": [
    "First that will require compiling each type of data from the two sets into one item. Then we can make a dataframe which includes values for both sets."
   ]
  },
  {
   "cell_type": "code",
   "execution_count": 24,
   "metadata": {},
   "outputs": [],
   "source": [
    "# Create a dataframe for which you can properly run linear regression on both sets\n",
    "depths = rcounts_clean['Depth'].append(mcounts_clean['Depth'])\n",
    "pinus_by_depth = rcounts_clean['Pinus'].append(mcounts_clean['Pinus'])\n",
    "totals = rcounts_clean['Total'].append(mcounts_clean['Total'])"
   ]
  },
  {
   "cell_type": "code",
   "execution_count": 80,
   "metadata": {},
   "outputs": [
    {
     "data": {
      "text/html": [
       "<div>\n",
       "<style scoped>\n",
       "    .dataframe tbody tr th:only-of-type {\n",
       "        vertical-align: middle;\n",
       "    }\n",
       "\n",
       "    .dataframe tbody tr th {\n",
       "        vertical-align: top;\n",
       "    }\n",
       "\n",
       "    .dataframe thead th {\n",
       "        text-align: right;\n",
       "    }\n",
       "</style>\n",
       "<table border=\"1\" class=\"dataframe\">\n",
       "  <thead>\n",
       "    <tr style=\"text-align: right;\">\n",
       "      <th></th>\n",
       "      <th>Depths</th>\n",
       "      <th>Pinus</th>\n",
       "      <th>Total</th>\n",
       "      <th>dataset</th>\n",
       "    </tr>\n",
       "  </thead>\n",
       "  <tbody>\n",
       "    <tr>\n",
       "      <th>1</th>\n",
       "      <td>13.64</td>\n",
       "      <td>54.0</td>\n",
       "      <td>422.0</td>\n",
       "      <td>r</td>\n",
       "    </tr>\n",
       "    <tr>\n",
       "      <th>2</th>\n",
       "      <td>14.56</td>\n",
       "      <td>55.0</td>\n",
       "      <td>477.0</td>\n",
       "      <td>r</td>\n",
       "    </tr>\n",
       "    <tr>\n",
       "      <th>3</th>\n",
       "      <td>15.51</td>\n",
       "      <td>60.0</td>\n",
       "      <td>561.0</td>\n",
       "      <td>r</td>\n",
       "    </tr>\n",
       "    <tr>\n",
       "      <th>4</th>\n",
       "      <td>16.48</td>\n",
       "      <td>69.0</td>\n",
       "      <td>486.0</td>\n",
       "      <td>r</td>\n",
       "    </tr>\n",
       "    <tr>\n",
       "      <th>5</th>\n",
       "      <td>17.07</td>\n",
       "      <td>113.0</td>\n",
       "      <td>531.0</td>\n",
       "      <td>r</td>\n",
       "    </tr>\n",
       "    <tr>\n",
       "      <th>...</th>\n",
       "      <td>...</td>\n",
       "      <td>...</td>\n",
       "      <td>...</td>\n",
       "      <td>...</td>\n",
       "    </tr>\n",
       "    <tr>\n",
       "      <th>20</th>\n",
       "      <td>28.77</td>\n",
       "      <td>122.0</td>\n",
       "      <td>452.0</td>\n",
       "      <td>m</td>\n",
       "    </tr>\n",
       "    <tr>\n",
       "      <th>21</th>\n",
       "      <td>29.38</td>\n",
       "      <td>154.0</td>\n",
       "      <td>470.0</td>\n",
       "      <td>m</td>\n",
       "    </tr>\n",
       "    <tr>\n",
       "      <th>22</th>\n",
       "      <td>30.55</td>\n",
       "      <td>104.0</td>\n",
       "      <td>475.0</td>\n",
       "      <td>m</td>\n",
       "    </tr>\n",
       "    <tr>\n",
       "      <th>23</th>\n",
       "      <td>31.46</td>\n",
       "      <td>156.0</td>\n",
       "      <td>450.0</td>\n",
       "      <td>m</td>\n",
       "    </tr>\n",
       "    <tr>\n",
       "      <th>24</th>\n",
       "      <td>35.82</td>\n",
       "      <td>182.0</td>\n",
       "      <td>616.0</td>\n",
       "      <td>m</td>\n",
       "    </tr>\n",
       "  </tbody>\n",
       "</table>\n",
       "<p>66 rows × 4 columns</p>\n",
       "</div>"
      ],
      "text/plain": [
       "    Depths  Pinus  Total dataset\n",
       "1    13.64   54.0  422.0       r\n",
       "2    14.56   55.0  477.0       r\n",
       "3    15.51   60.0  561.0       r\n",
       "4    16.48   69.0  486.0       r\n",
       "5    17.07  113.0  531.0       r\n",
       "..     ...    ...    ...     ...\n",
       "20   28.77  122.0  452.0       m\n",
       "21   29.38  154.0  470.0       m\n",
       "22   30.55  104.0  475.0       m\n",
       "23   31.46  156.0  450.0       m\n",
       "24   35.82  182.0  616.0       m\n",
       "\n",
       "[66 rows x 4 columns]"
      ]
     },
     "execution_count": 80,
     "metadata": {},
     "output_type": "execute_result"
    }
   ],
   "source": [
    "# Add these values to a dataframe\n",
    "frame = { 'Depths': depths, 'Pinus': pinus_by_depth, 'Total': totals } \n",
    "mr_pinus = pd.DataFrame(frame) \n",
    "\n",
    "# Specify which values are from which set (mcounts or rcounts)\n",
    "dataset = []\n",
    "\n",
    "for i in range (0,42):\n",
    "    dataset.append('r')\n",
    "for i in range (43,67):\n",
    "    dataset.append('m')\n",
    "\n",
    "# New combined dataset is called 'mr_pinus'\n",
    "mr_pinus['dataset'] = dataset\n",
    "mr_pinus"
   ]
  },
  {
   "cell_type": "code",
   "execution_count": 26,
   "metadata": {},
   "outputs": [],
   "source": [
    "# Use the new df to recalculate the relative amount at each depth, but for both sets this time\n",
    "frac = (mr_pinus['Pinus']/mr_pinus['Total'])"
   ]
  },
  {
   "cell_type": "markdown",
   "metadata": {},
   "source": [
    "While we're at it, let's do a quick statistical calculation of correlation. Hmm... seems like it could be useful if I knew how to interpret it, but I'll be better of with metrics I understand."
   ]
  },
  {
   "cell_type": "code",
   "execution_count": 27,
   "metadata": {},
   "outputs": [
    {
     "data": {
      "text/plain": [
       "(0.6971680266395643, 7.884226100014144e-11)"
      ]
     },
     "execution_count": 27,
     "metadata": {},
     "output_type": "execute_result"
    }
   ],
   "source": [
    "# Take a look at the correlation between values from the two sets\n",
    "pearson_coef, p_value = stats.pearsonr(frac, depths)\n",
    "pearson_coef, p_value"
   ]
  },
  {
   "cell_type": "markdown",
   "metadata": {},
   "source": [
    "It turns out that my indexes get the 'mlr.fit()' function totally confused, well thankfully I can switch my naming conventions to make them condusive to multiple linear regression."
   ]
  },
  {
   "cell_type": "code",
   "execution_count": 28,
   "metadata": {},
   "outputs": [
    {
     "data": {
      "text/html": [
       "<div>\n",
       "<style scoped>\n",
       "    .dataframe tbody tr th:only-of-type {\n",
       "        vertical-align: middle;\n",
       "    }\n",
       "\n",
       "    .dataframe tbody tr th {\n",
       "        vertical-align: top;\n",
       "    }\n",
       "\n",
       "    .dataframe thead th {\n",
       "        text-align: right;\n",
       "    }\n",
       "</style>\n",
       "<table border=\"1\" class=\"dataframe\">\n",
       "  <thead>\n",
       "    <tr style=\"text-align: right;\">\n",
       "      <th></th>\n",
       "      <th>Depths</th>\n",
       "      <th>Pinus</th>\n",
       "      <th>Total</th>\n",
       "      <th>dataset</th>\n",
       "    </tr>\n",
       "  </thead>\n",
       "  <tbody>\n",
       "    <tr>\n",
       "      <th>1</th>\n",
       "      <td>13.64</td>\n",
       "      <td>54.0</td>\n",
       "      <td>422.0</td>\n",
       "      <td>0</td>\n",
       "    </tr>\n",
       "    <tr>\n",
       "      <th>2</th>\n",
       "      <td>14.56</td>\n",
       "      <td>55.0</td>\n",
       "      <td>477.0</td>\n",
       "      <td>0</td>\n",
       "    </tr>\n",
       "    <tr>\n",
       "      <th>3</th>\n",
       "      <td>15.51</td>\n",
       "      <td>60.0</td>\n",
       "      <td>561.0</td>\n",
       "      <td>0</td>\n",
       "    </tr>\n",
       "    <tr>\n",
       "      <th>4</th>\n",
       "      <td>16.48</td>\n",
       "      <td>69.0</td>\n",
       "      <td>486.0</td>\n",
       "      <td>0</td>\n",
       "    </tr>\n",
       "    <tr>\n",
       "      <th>5</th>\n",
       "      <td>17.07</td>\n",
       "      <td>113.0</td>\n",
       "      <td>531.0</td>\n",
       "      <td>0</td>\n",
       "    </tr>\n",
       "    <tr>\n",
       "      <th>...</th>\n",
       "      <td>...</td>\n",
       "      <td>...</td>\n",
       "      <td>...</td>\n",
       "      <td>...</td>\n",
       "    </tr>\n",
       "    <tr>\n",
       "      <th>20</th>\n",
       "      <td>28.77</td>\n",
       "      <td>122.0</td>\n",
       "      <td>452.0</td>\n",
       "      <td>1</td>\n",
       "    </tr>\n",
       "    <tr>\n",
       "      <th>21</th>\n",
       "      <td>29.38</td>\n",
       "      <td>154.0</td>\n",
       "      <td>470.0</td>\n",
       "      <td>1</td>\n",
       "    </tr>\n",
       "    <tr>\n",
       "      <th>22</th>\n",
       "      <td>30.55</td>\n",
       "      <td>104.0</td>\n",
       "      <td>475.0</td>\n",
       "      <td>1</td>\n",
       "    </tr>\n",
       "    <tr>\n",
       "      <th>23</th>\n",
       "      <td>31.46</td>\n",
       "      <td>156.0</td>\n",
       "      <td>450.0</td>\n",
       "      <td>1</td>\n",
       "    </tr>\n",
       "    <tr>\n",
       "      <th>24</th>\n",
       "      <td>35.82</td>\n",
       "      <td>182.0</td>\n",
       "      <td>616.0</td>\n",
       "      <td>1</td>\n",
       "    </tr>\n",
       "  </tbody>\n",
       "</table>\n",
       "<p>66 rows × 4 columns</p>\n",
       "</div>"
      ],
      "text/plain": [
       "    Depths  Pinus  Total  dataset\n",
       "1    13.64   54.0  422.0        0\n",
       "2    14.56   55.0  477.0        0\n",
       "3    15.51   60.0  561.0        0\n",
       "4    16.48   69.0  486.0        0\n",
       "5    17.07  113.0  531.0        0\n",
       "..     ...    ...    ...      ...\n",
       "20   28.77  122.0  452.0        1\n",
       "21   29.38  154.0  470.0        1\n",
       "22   30.55  104.0  475.0        1\n",
       "23   31.46  156.0  450.0        1\n",
       "24   35.82  182.0  616.0        1\n",
       "\n",
       "[66 rows x 4 columns]"
      ]
     },
     "execution_count": 28,
     "metadata": {},
     "output_type": "execute_result"
    }
   ],
   "source": [
    "mr_pinus = mr_pinus.replace(to_replace={'r' : 0, 'm': 1})\n",
    "mr_pinus"
   ]
  },
  {
   "cell_type": "code",
   "execution_count": 29,
   "metadata": {},
   "outputs": [
    {
     "name": "stdout",
     "output_type": "stream",
     "text": [
      "14.969883659670058\n",
      "[ 4.58722217e-02 -2.31284489e-04  3.22618753e+00]\n"
     ]
    }
   ],
   "source": [
    "# Try this using a different model for the data, multiple linear regression\n",
    "# Create linear regression object.\n",
    "mlr= LinearRegression()\n",
    "\n",
    "# Fit linear regression.\n",
    "mlr.fit(mr_pinus[['Pinus','Total','dataset']], mr_pinus['Depths'])\n",
    "\n",
    "# Get the slope and intercept of the line best fit.\n",
    "yint = mlr.intercept_ \n",
    "print(mlr.intercept_)\n",
    "coef = mlr.coef_\n",
    "print(mlr.coef_)"
   ]
  },
  {
   "cell_type": "markdown",
   "metadata": {},
   "source": [
    "Interesting! The pearson coefficient of correlation from above was totally different than these numbers. I could have excluded it entirely, but I think it helps show that Multiple Linear Regression is a more appropriate model for this data than single variable regression. Now let me calculate the Mlr line equations from these values in order to graph them. I use a scatter plot to smooth some of the up and down."
   ]
  },
  {
   "cell_type": "code",
   "execution_count": 30,
   "metadata": {},
   "outputs": [],
   "source": [
    "for i in mr_pinus[0:42]:\n",
    "    depth_r = 14.969883659670058 + 4.58722217e-02*mr_pinus['Pinus'] - 2.31284489e-04*mr_pinus[\"Total\"]\n",
    "\n",
    "for i in mr_pinus[43:67]:\n",
    "    depth_m = 14.969883659670058 + 4.58722217e-02*mr_pinus['Pinus'] - 2.31284489e-04*mr_pinus[\"Total\"] + 3.22618753e+00"
   ]
  },
  {
   "cell_type": "code",
   "execution_count": 76,
   "metadata": {},
   "outputs": [
    {
     "data": {
      "text/plain": [
       "Text(0.5, 1.0, 'multiple linear regression on both datasets')"
      ]
     },
     "execution_count": 76,
     "metadata": {},
     "output_type": "execute_result"
    },
    {
     "data": {
      "image/png": "[encoded data removed]",
      "text/plain": [
       "<Figure size 432x288 with 1 Axes>"
      ]
     },
     "metadata": {
      "needs_background": "light"
     },
     "output_type": "display_data"
    }
   ],
   "source": [
    "#Depth = 14.969883659670058 + 4.58722217e-02*Pinus - 2.31284489e-04*Total + 3.22618753e+00*SETVALUE\n",
    "#### If mcounts: setvalue=1, if rcounts: setvalue=0\n",
    "\n",
    "# Plot a the multiple linear regression model line for the combined datasets\n",
    "plt.scatter(frac[43:67], depth_m[43:67],c='black',label='mcounts Mlr fit')\n",
    "plt.scatter(frac[0:42], depth_r[0:42],c='purple',label='rcounts Mlr fit')\n",
    "plt.gca().invert_yaxis()\n",
    "plt.legend()\n",
    "plt.title('multiple linear regression on both datasets')"
   ]
  },
  {
   "cell_type": "markdown",
   "metadata": {},
   "source": [
    "Out of context that plot isn't all that helpful for determining similarity since the sets have different numbers of data points. Let's plot the residuals in order to get a better sense of the similarity between these two lines."
   ]
  },
  {
   "cell_type": "code",
   "execution_count": 79,
   "metadata": {},
   "outputs": [
    {
     "data": {
      "text/plain": [
       "Text(0.5, 1.0, 'Multiple linear regression residuals plot')"
      ]
     },
     "execution_count": 79,
     "metadata": {},
     "output_type": "execute_result"
    },
    {
     "data": {
      "image/png": "[encoded data removed]",
      "text/plain": [
       "<Figure size 432x288 with 1 Axes>"
      ]
     },
     "metadata": {
      "needs_background": "light"
     },
     "output_type": "display_data"
    }
   ],
   "source": [
    "# Plot the residuals\n",
    "sns.residplot(frac[43:67], depth_m[43:67], color='black',label='mcounts Mlr residual')\n",
    "sns.residplot(frac[0:42], depth_r[0:42], color='purple',label='rcounts Mlr residual')\n",
    "plt.legend()\n",
    "plt.title('Multiple linear regression residuals plot')"
   ]
  },
  {
   "cell_type": "markdown",
   "metadata": {},
   "source": [
    "# Data Analysis 2"
   ]
  },
  {
   "cell_type": "markdown",
   "metadata": {},
   "source": [
    "Well, that looks pretty clustered around zero with the exception of some outliers, but let's calculate some more error estimates. Maybe these will giver more detail on the error."
   ]
  },
  {
   "cell_type": "code",
   "execution_count": 114,
   "metadata": {},
   "outputs": [],
   "source": [
    "## Set up a confidence interval calculator for rcounts\n",
    "sample_size_r = 43\n",
    "\n",
    "intervals_r = []\n",
    "sample_means_r = []\n",
    "\n",
    "for sample in range(25):\n",
    "    sample_r = np.random.choice(a= frac[0:42], size = sample_size)\n",
    "    sample_mean_r = sample_r.mean()\n",
    "    sample_means_r.append(sample_mean_r)\n",
    "    \n",
    "    z_critical_r = stats.norm.ppf(q = 0.975)  # Get the z-critical value*         \n",
    "    pop_stdev_r = frac[0:42].std()  # Get the population standard deviation\n",
    "    stats.norm.ppf(q = 0.025)\n",
    "\n",
    "    margin_of_error_r = z_critical_r * (pop_stdev_r/math.sqrt(sample_size_r))\n",
    "    confidence_interval_r = (sample_mean_r - margin_of_error_r, sample_mean_r + margin_of_error_r)  \n",
    "    intervals_r.append(confidence_interval_r)"
   ]
  },
  {
   "cell_type": "code",
   "execution_count": 115,
   "metadata": {},
   "outputs": [],
   "source": [
    "## Set up a confidence interval calculator for mcounts\n",
    "sample_size_m = 25\n",
    "\n",
    "intervals_m = []\n",
    "sample_means_m = []\n",
    "\n",
    "for sample in range(25):\n",
    "    sample_m = np.random.choice(a= frac[43:67], size = sample_size)\n",
    "    sample_mean_m = sample_m.mean()\n",
    "    sample_means_m.append(sample_mean_m)\n",
    "    \n",
    "    z_critical_m = stats.norm.ppf(q = 0.975)  # Get the z-critical value*         \n",
    "    pop_stdev_m = frac[43:67].std()  # Get the population standard deviation\n",
    "    stats.norm.ppf(q = 0.025)\n",
    "    \n",
    "    margin_of_error_m = z_critical_m * (pop_stdev_m/math.sqrt(sample_size_m))\n",
    "    confidence_interval = (sample_mean_m - margin_of_error_m, sample_mean_m + margin_of_error_m)  \n",
    "    intervals_m.append(confidence_interval)"
   ]
  },
  {
   "cell_type": "code",
   "execution_count": 116,
   "metadata": {},
   "outputs": [
    {
     "data": {
      "text/plain": [
       "<matplotlib.collections.LineCollection at 0x1a25524150>"
      ]
     },
     "execution_count": 116,
     "metadata": {},
     "output_type": "execute_result"
    },
    {
     "data": {
      "image/png": "[encoded data removed]",
      "text/plain": [
       "<Figure size 648x648 with 1 Axes>"
      ]
     },
     "metadata": {
      "needs_background": "light"
     },
     "output_type": "display_data"
    }
   ],
   "source": [
    "#Plot both confidence intervals and see how much the overlap\n",
    "plt.figure(figsize=(9,9))\n",
    "plt.title('Confidence interval plot')\n",
    "\n",
    "####RPLOTS\n",
    "plt.errorbar(x=np.arange(0.1, 25, 1), y=sample_means_r, yerr=[(top-bot)/2 for top,bot in intervals_r],\n",
    "    fmt='o',color='purple')\n",
    "plt.hlines(xmin=0, xmax=25,y=0.36,color=\"red\")\n",
    "\n",
    "####MPLOTS\n",
    "plt.errorbar(x=np.arange(0.1, 25, 1), y=sample_means_m, yerr=[(top-bot)/2 for top,bot in intervals_m],\n",
    "    fmt='o',color='black')\n",
    "plt.hlines(xmin=0, xmax=25,y=0.27,color=\"red\")"
   ]
  },
  {
   "cell_type": "markdown",
   "metadata": {},
   "source": [
    "Yikes. Well that's not ideal. It seems like the sets just aren't all that comparable even using multiple linear regression. I wonder if this result would be the same for all genera, and to what extent the different depths measured from both sets would affect this."
   ]
  },
  {
   "cell_type": "markdown",
   "metadata": {},
   "source": [
    "# Conclusions"
   ]
  },
  {
   "cell_type": "markdown",
   "metadata": {},
   "source": [
    "The primary useful result of this analysis comes from Data Visualization 2, which show that pine comprises a similar majority of the conifer pollen across both sets. This implies a source of consistency, and negates some of the worst possibilities of misidentification. Similar can be said for Tsuga mertensiana and Tsuga heterophylla. Juniperus/Cupresses might have been misidentified as Picea or Abies in mcounts, but seeing as it wasn't explicitly counted in mcounts, this is a challenging conclusion to draw. \n",
    "\n",
    "Additionally, the linear regressions plotted yield considerable error. I would have used another metric, but had considerable difficulties wrangling the data as is. Furthermore, it's possible that these confidence intervals are not correctly calculated and therefore statistically invalid. I'm not entirely sure of what sample size would be necessary to assume a standard distribution from this type of data, or if these sets meet that value. In terms of outliers, for example, it seems inappropriate to discount them since the painstaking methodology by which the data were collected should give meaningful results.\n",
    "\n",
    "In all analysis plots there were parallel but slightly offset values for each set. I unsure why this is exactly, and curious why it persists throughout all the sets. Visible in the overall pollen deposition rates is similar relative rates, but ones which were overall much higher in mcounts. This is probably because rcounts includes almost twice as many individual grain counts as mcounts, but at more depths leading to an overall lower deposition number per depth. This metric is also imperfect because I did not have the availible sediment data to combine will pollen for deposition rates, so mine were calculated assuming constant sediment deposition when this is almost certainly not the reality.\n",
    "\n",
    "Overall this was a useful excersize, and has exposed me more thoroughly to both the methods used in class and new ones. It has also made me realize that I desparately need to take a real statistics class. From this project I was able to quantify the similarity between the sets (see confidence iterval graphs), but I would want to revise the methodology with which it was calculated before drawing and real conclusions from it."
   ]
  },
  {
   "cell_type": "markdown",
   "metadata": {},
   "source": [
    "# Acknowledgements"
   ]
  },
  {
   "cell_type": "markdown",
   "metadata": {},
   "source": [
    "Thank you Prof. Swanson-Hysell, Erin, and Justin for the course. Please see the 'Components' section for sources, it's broken down by where they were used.\n",
    "\n",
    "Additional thanks to whomever created Stack Overflow (which I did not cite due to the excessive number of pages visited, and the impossibility of counting them all), and everyone who answers questions there.\n",
    "\n",
    "Thank you to Prof. Dave Wahl (UC Berkeley Geography, USGS) for the opportunity to do real science, and for introducing me to palynology.\n",
    "\n",
    "Lastly, very special thanks to M. Champagne (USGS) for providing the two datasets used. My respect and admiration goes the late founder of Berkeley's QPL, Prof. Roger Byrne, and M. Champagne for producing the datasets, and for their hundreds of hours counting 32,696 individual grains of Clear Lake pollen."
   ]
  }
 ],
 "metadata": {
  "kernelspec": {
   "display_name": "Python 3",
   "language": "python",
   "name": "python3"
  },
  "language_info": {
   "codemirror_mode": {
    "name": "ipython",
    "version": 3
   },
   "file_extension": ".py",
   "mimetype": "text/x-python",
   "name": "python",
   "nbconvert_exporter": "python",
   "pygments_lexer": "ipython3",
   "version": "3.8.3"
  }
 },
 "nbformat": 4,
 "nbformat_minor": 2
}
