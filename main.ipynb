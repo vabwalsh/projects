{
 "cells": [
  {
   "cell_type": "code",
   "execution_count": 1,
   "id": "indian-bicycle",
   "metadata": {},
   "outputs": [
    {
     "name": "stderr",
     "output_type": "stream",
     "text": [
      "/Library/Frameworks/Python.framework/Versions/3.9/lib/python3.9/site-packages/numpy/core/fromnumeric.py:3419: RuntimeWarning: Mean of empty slice.\n",
      "  return _methods._mean(a, axis=axis, dtype=dtype,\n",
      "/Library/Frameworks/Python.framework/Versions/3.9/lib/python3.9/site-packages/numpy/core/_methods.py:188: RuntimeWarning: invalid value encountered in true_divide\n",
      "  ret = ret.dtype.type(ret / rcount)\n"
     ]
    }
   ],
   "source": [
    "from endv_all_sites import create_data_dict\n",
    "from make_fpar_stats import fpar_stats\n",
    "from process_flux_data import process_flux_data\n",
    "from pull_nc_NEE import pull_rs_NEE\n",
    "import numpy as np\n",
    "import pandas as pd\n",
    "import sklearn\n",
    "from sklearn.ensemble import RandomForestRegressor\n",
    "from sklearn.model_selection import RandomizedSearchCV\n",
    "from sklearn import tree\n",
    "from sklearn.model_selection import train_test_split as tts\n",
    "from sklearn.metrics import accuracy_score, confusion_matrix, classification_report\n",
    "import matplotlib.pyplot as plt\n",
    "from itertools import cycle, islice"
   ]
  },
  {
   "cell_type": "code",
   "execution_count": 2,
   "id": "incorrect-pocket",
   "metadata": {},
   "outputs": [
    {
     "name": "stderr",
     "output_type": "stream",
     "text": [
      "/Library/Frameworks/Python.framework/Versions/3.9/lib/python3.9/site-packages/numpy/core/fromnumeric.py:3419: RuntimeWarning: Mean of empty slice.\n",
      "  return _methods._mean(a, axis=axis, dtype=dtype,\n",
      "/Library/Frameworks/Python.framework/Versions/3.9/lib/python3.9/site-packages/numpy/core/_methods.py:188: RuntimeWarning: invalid value encountered in true_divide\n",
      "  ret = ret.dtype.type(ret / rcount)\n"
     ]
    }
   ],
   "source": [
    "site_coords = {'vaira': [38.4133, -120.9508],\n",
    "               'tonzi': [38.4309, -120.9660],\n",
    "               'ME4': [44.4992, -121.6224],\n",
    "               'ME5': [44.4372, -121.5668]}\n",
    "\n",
    "data=np.load('fapar_vals_dict_365.npy', allow_pickle=True)\n",
    "data = data[()]\n",
    "\n",
    "site_wise_data = {}\n",
    "for site in site_coords:\n",
    "    site_wise_data[site] = {}\n",
    "    for key in data:\n",
    "        if site in str(key):\n",
    "            site_wise_data[site][key] = np.mean(data[key])\n",
    "\n",
    "vaira_df = pd.DataFrame({'keys' : site_wise_data['vaira'].keys() , 'fPAR' : site_wise_data['vaira'].values()})\n",
    "tonzi_df = pd.DataFrame({'keys' : site_wise_data['tonzi'].keys() , 'fPAR' : site_wise_data['tonzi'].values()})\n",
    "ME4_df = pd.DataFrame({'keys' : site_wise_data['ME4'].keys() , 'fPAR' : site_wise_data['ME4'].values()})\n",
    "ME5_df = pd.DataFrame({'keys' : site_wise_data['ME5'].keys() , 'fPAR' : site_wise_data['ME5'].values()})\n",
    "site_dfs = [vaira_df, tonzi_df, ME4_df, ME5_df]"
   ]
  },
  {
   "cell_type": "code",
   "execution_count": 3,
   "id": "right-likelihood",
   "metadata": {},
   "outputs": [],
   "source": [
    "pull_rs_NEE()\n",
    "monthly_NEE = np.load('NEE_vals_dict.npy', allow_pickle=True)\n",
    "monthly_NEE = monthly_NEE[()]\n",
    "vaira_NEE = pd.DataFrame(monthly_NEE['vaira']).iloc[0:12]\n",
    "tonzi_NEE = pd.DataFrame(monthly_NEE['tonzi']).iloc[0:12]\n",
    "ME4_NEE = pd.DataFrame(monthly_NEE['ME4']).iloc[0:12]\n",
    "ME5_NEE = pd.DataFrame(monthly_NEE['ME5']).iloc[0:12]\n",
    "\n",
    "all_NEE = [vaira_NEE, tonzi_NEE, ME4_NEE, ME5_NEE]"
   ]
  },
  {
   "cell_type": "code",
   "execution_count": 4,
   "id": "meaning-office",
   "metadata": {
    "scrolled": true
   },
   "outputs": [
    {
     "name": "stderr",
     "output_type": "stream",
     "text": [
      "/Users/Violet/Desktop/ccm_final/make_fpar_stats.py:54: RuntimeWarning: Mean of empty slice\n",
      "  monthly_fpar.append(np.nanmean(i))\n",
      "/Users/Violet/Desktop/ccm_final/make_fpar_stats.py:57: RuntimeWarning: Mean of empty slice\n",
      "  yearly_fpar = np.nanmean(avg_monthly_fpar)\n"
     ]
    }
   ],
   "source": [
    "vavgf, vmaxf, vminf, vmonthly = fpar_stats(vaira_df)\n",
    "tavgf, tmaxf, tminf, tmonthly = fpar_stats(tonzi_df)\n",
    "avgf4, maxf4, minf4, monthly4 = fpar_stats(ME4_df)\n",
    "avgf5, maxf5, minf5, monthly5 = fpar_stats(ME5_df)"
   ]
  },
  {
   "cell_type": "code",
   "execution_count": 5,
   "id": "welcome-order",
   "metadata": {},
   "outputs": [],
   "source": [
    "dfs, insitu = process_flux_data()"
   ]
  },
  {
   "cell_type": "code",
   "execution_count": 6,
   "id": "hairy-liver",
   "metadata": {},
   "outputs": [],
   "source": [
    "vairaX = insitu[0][['TA_F_MDS', 'P_ERA']]\n",
    "vairaX['fpar'] = vmonthly\n",
    "vairaX['max_fpar'] = vmaxf\n",
    "vairaX['min_fpar'] = vminf\n",
    "vairaX['fpar_yr_avg'] = vavgf\n",
    "vairaX['IGBP V'] = 1\n",
    "vairaX['IGBP T'] = 0\n",
    "vairaX['IGBP E'] = 0\n",
    "\n",
    "tonziX = insitu[1][['TA_F_MDS', 'P_ERA']]\n",
    "tonziX['fpar'] = tmonthly\n",
    "tonziX['max_fpar'] = tmaxf\n",
    "tonziX['min_fpar'] = tminf\n",
    "tonziX['fpar_yr_avg'] = tavgf\n",
    "tonziX['IGBP V'] = 0\n",
    "tonziX['IGBP T'] = 1\n",
    "tonziX['IGBP E'] = 0\n",
    "\n",
    "Xme4 = insitu[2][['TA_F_MDS', 'P_ERA']]\n",
    "Xme4['fpar'] = monthly4\n",
    "Xme4['max_fpar'] = maxf4\n",
    "Xme4['min_fpar'] = minf4\n",
    "Xme4['fpar_yr_avg'] = avgf4\n",
    "Xme4['IGBP V'] = 0\n",
    "Xme4['IGBP T'] = 0\n",
    "Xme4['IGBP E'] = 1"
   ]
  },
  {
   "cell_type": "code",
   "execution_count": 7,
   "id": "smart-smooth",
   "metadata": {},
   "outputs": [],
   "source": [
    "#MTE predicted (y axis) versus FLUXNET observed (y axis) GPP, TER, NEE, LE, and H"
   ]
  },
  {
   "cell_type": "code",
   "execution_count": 8,
   "id": "anonymous-consultancy",
   "metadata": {},
   "outputs": [],
   "source": [
    "#Y-axis (fluxnet observed)\n",
    "fluxnet_NEE = dfs[0].append(dfs[1]).append(dfs[2])[['TIMESTAMP','NEE_CUT_USTAR50']]"
   ]
  },
  {
   "cell_type": "code",
   "execution_count": 9,
   "id": "developmental-olive",
   "metadata": {},
   "outputs": [],
   "source": [
    "#X-axis (model predicted)\n",
    "\n",
    "#First, create X training data for the model from explanatory vars:\n",
    "training_x = vairaX.append(tonziX).append(Xme4)\n",
    "training_x.reset_index()\n",
    "ms = list(np.arange(12)+1)\n",
    "training_x['index'] = list(islice(cycle(ms), len(training_x)))\n",
    "\n",
    "##create a feature indicating presence of rain\n",
    "rain = [] \n",
    "for i in training_x['P_ERA']:\n",
    "    if i > 0:\n",
    "        rain.append(1)\n",
    "    elif i <= 0:\n",
    "        rain.append(0)\n",
    "training_x['rain'] = rain\n",
    "\n",
    "##create a feature indicating max-min fpar\n",
    "training_x['fpar dif'] = training_x['max_fpar'] - training_x['min_fpar']\n",
    "\n",
    "#Then, collect Y training data from remote sensing predicted NEE values\n",
    "NEE_list = all_NEE[0].append(all_NEE[1]).append(all_NEE[2])\n",
    "NEE_indexed = NEE_list.reset_index()\n",
    "NEE_indexed['month'] = NEE_indexed['index'] + 1\n",
    "rs_NEE = NEE_indexed.drop(labels = 'index', axis = 1)"
   ]
  },
  {
   "cell_type": "code",
   "execution_count": 10,
   "id": "built-regression",
   "metadata": {},
   "outputs": [],
   "source": [
    "# Evaulate hyperparameters & cross-validate with 3 folds\n",
    "n_estimators = [int(x) for x in np.linspace(start = 200, stop = 2000, num = 10)]\n",
    "max_features = ['auto', 'sqrt']\n",
    "max_depth = [int(x) for x in np.linspace(10, 110, num = 11)]\n",
    "max_depth.append(None)\n",
    "min_samples_split = [2, 5, 10]\n",
    "min_samples_leaf = [1, 2, 4]\n",
    "bootstrap = [True, False]\n",
    "\n",
    "random_grid = {'n_estimators': n_estimators,\n",
    "               'max_features': max_features,\n",
    "               'max_depth': max_depth,\n",
    "               'min_samples_split': min_samples_split,\n",
    "               'min_samples_leaf': min_samples_leaf,\n",
    "               'bootstrap': bootstrap}\n",
    "\n",
    "# Use the random grid to search for best hyperparameters\n",
    "rfr = RandomForestRegressor()"
   ]
  },
  {
   "cell_type": "code",
   "execution_count": 11,
   "id": "published-president",
   "metadata": {},
   "outputs": [
    {
     "name": "stdout",
     "output_type": "stream",
     "text": [
      "Fitting 3 folds for each of 100 candidates, totalling 300 fits\n"
     ]
    }
   ],
   "source": [
    "#Produce NEE estimates from the model\n",
    "X_train, X_test, y_train, y_test = tts(training_x, rs_NEE[0], test_size = .5)\n",
    "# Random search of parameters, using 3 fold cross validation, \n",
    "rf_random = RandomizedSearchCV(estimator = rfr, param_distributions = random_grid, n_iter = 100, cv = 3, verbose=2, random_state=42, n_jobs = -1)\n",
    "rf_random.fit(X_train, y_train)\n",
    "pred = rf_random.predict(X_test)"
   ]
  },
  {
   "cell_type": "code",
   "execution_count": 12,
   "id": "southeast-spine",
   "metadata": {},
   "outputs": [
    {
     "name": "stdout",
     "output_type": "stream",
     "text": [
      "0.004517262420188239\n",
      "0.17304426226812708\n",
      "0.3265968162718299\n"
     ]
    }
   ],
   "source": [
    "print(rf_random.score(X_test, y_test))\n",
    "print(rf_random.score(X_train, y_train))\n",
    "print(rs_NEE[0].corr(fluxnet_NEE['NEE_CUT_USTAR50']))"
   ]
  },
  {
   "cell_type": "code",
   "execution_count": 13,
   "id": "endless-fusion",
   "metadata": {},
   "outputs": [
    {
     "data": {
      "text/plain": [
       "(array([-0.01618789, -0.01180111, -0.00975692, -0.01602787, -0.01061302,\n",
       "        -0.00636983, -0.01080967, -0.01001001, -0.01241058, -0.01614582,\n",
       "        -0.00834061, -0.01012533, -0.01160447, -0.00537759, -0.00972949,\n",
       "        -0.01479769, -0.01136942, -0.00190854]),\n",
       " 24   -0.092968\n",
       " 25   -0.257451\n",
       " 26   -1.767250\n",
       " 27   -3.163730\n",
       " 28    0.373906\n",
       " 29    0.455460\n",
       " 30    0.444843\n",
       " 31    0.526267\n",
       " 32    0.393457\n",
       " 33    0.158393\n",
       " 34    2.170380\n",
       " 35    0.584225\n",
       " 12   -0.225001\n",
       " 13    0.538909\n",
       " 14   -0.142010\n",
       " 15   -1.943780\n",
       " 16   -2.349780\n",
       " 17   -1.769770\n",
       " 18   -1.102430\n",
       " 19   -0.523219\n",
       " 20   -0.021390\n",
       " 21   -0.268096\n",
       " 22    1.250730\n",
       " 23    0.942812\n",
       " 24    0.124957\n",
       " 25    0.080332\n",
       " 26   -0.334093\n",
       " 27   -1.034030\n",
       " 28   -1.067090\n",
       " 29   -1.422040\n",
       " 30   -0.848304\n",
       " 31   -0.646749\n",
       " 32   -0.259251\n",
       " 33   -0.239523\n",
       " 34    0.064252\n",
       " 35    0.604490\n",
       " Name: NEE_CUT_USTAR50, dtype: float64)"
      ]
     },
     "execution_count": 13,
     "metadata": {},
     "output_type": "execute_result"
    }
   ],
   "source": [
    "pred, fluxnet_NEE['NEE_CUT_USTAR50']"
   ]
  },
  {
   "cell_type": "code",
   "execution_count": 15,
   "id": "applied-moral",
   "metadata": {},
   "outputs": [
    {
     "data": {
      "image/png": "[encoded data removed]",
      "text/plain": [
       "<Figure size 432x288 with 1 Axes>"
      ]
     },
     "metadata": {
      "needs_background": "light"
     },
     "output_type": "display_data"
    }
   ],
   "source": [
    "plt.scatter(pred, y_test, color = 'forestgreen') \n",
    "plt.hist(pred, alpha = 0.3)\n",
    "plt.hist(fluxnet_NEE['NEE_CUT_USTAR50'], alpha = 0.3)\n",
    "# y = x trendline\n",
    "x = np.linspace(-2, 2, 500)\n",
    "y = x - 3.35\n",
    "plt.plot(x, y, color='red', label = 'Line of pefect model match')\n",
    "plt.xlim(-0.2,0.2)\n",
    "plt.ylim(-3.5,3);\n",
    "\n",
    "plt.title('NEE gC/m^2/day')\n",
    "plt.ylabel('FLUXNET observed')\n",
    "plt.xlabel('Model Predicted')\n",
    "plt.legend();"
   ]
  },
  {
   "cell_type": "code",
   "execution_count": 16,
   "id": "streaming-ultimate",
   "metadata": {},
   "outputs": [],
   "source": [
    "month0 = np.full(shape = 12, fill_value = 0)\n",
    "month1 = np.full(shape = 12, fill_value = 1)\n",
    "m11 = np.append(month1, month1)\n",
    "m01 = np.append(month0, month0)\n",
    "m001 = np.append(m01, month1)\n",
    "m110 = np.append(m11, month0)\n",
    "m011 = np.append(month0, m11)\n",
    "\n",
    "yr12 = np.full(shape = 12, fill_value = 12)\n",
    "yr1 = np.full(shape = 12, fill_value = 1)\n",
    "yr3 = np.full(shape = 12, fill_value = 3)\n",
    "yr12yr1yr3 = np.append((np.append(yr12, yr1)), yr3)\n",
    "\n",
    "age500 = np.full(shape = 12, fill_value = 500)\n",
    "age200 = np.full(shape = 12, fill_value = 200)\n",
    "age100 = np.full(shape = 12, fill_value = 200)\n",
    "age500200100 = np.append((np.append(age500, age200)), age100)"
   ]
  },
  {
   "cell_type": "code",
   "execution_count": 17,
   "id": "interested-newcastle",
   "metadata": {},
   "outputs": [],
   "source": [
    "# #MTE predicted (x axis) NEE including carbon pool parameters\n",
    "training_x['yrs_since_disturbance'] = yr12yr1yr3\n",
    "training_x['fire adapted'] = m011\n",
    "training_x['agricultural'] = m110\n",
    "training_x['ecosystem age'] = age500200100\n",
    "#training_x['ecosystem economic value'] = "
   ]
  },
  {
   "cell_type": "code",
   "execution_count": 18,
   "id": "juvenile-fruit",
   "metadata": {},
   "outputs": [
    {
     "name": "stdout",
     "output_type": "stream",
     "text": [
      "Fitting 3 folds for each of 100 candidates, totalling 300 fits\n"
     ]
    }
   ],
   "source": [
    "#Produce NEE estimates from the revised model\n",
    "X_train, X_test, y_train, y_test = tts(training_x, rs_NEE[0], test_size = .3)\n",
    "\n",
    "# Random search of parameters, using 3 fold cross validation, \n",
    "rf_random = RandomizedSearchCV(estimator = rfr, param_distributions = random_grid, n_iter = 100, cv = 3, verbose=2, random_state=42, n_jobs = -1)\n",
    "rf_random.fit(X_train, y_train)\n",
    "pred = rf_random.predict(X_test)"
   ]
  },
  {
   "cell_type": "code",
   "execution_count": 19,
   "id": "contrary-flash",
   "metadata": {},
   "outputs": [
    {
     "data": {
      "image/png": "[encoded data removed]",
      "text/plain": [
       "<Figure size 432x288 with 1 Axes>"
      ]
     },
     "metadata": {
      "needs_background": "light"
     },
     "output_type": "display_data"
    }
   ],
   "source": [
    "plt.scatter(rs_NEE[0], fluxnet_NEE['NEE_CUT_USTAR50'], color = 'forestgreen') \n",
    "\n",
    "# y = x trendline\n",
    "x = np.linspace(-2, 2, 500)\n",
    "y = x - 3.35\n",
    "plt.plot(x, y, color='red', label = 'Line of pefect model match')\n",
    "plt.xlim(-0.2,0.2)\n",
    "plt.ylim(-3.5,3);\n",
    "\n",
    "plt.title('NEE gC/m^2/day')\n",
    "plt.ylabel('FLUXNET observed')\n",
    "plt.xlabel('Model Predicted')\n",
    "plt.legend();"
   ]
  },
  {
   "cell_type": "code",
   "execution_count": 20,
   "id": "possible-booking",
   "metadata": {},
   "outputs": [
    {
     "name": "stdout",
     "output_type": "stream",
     "text": [
      "0.7344820726997064\n",
      "1.0\n",
      "0.3265968162718299\n"
     ]
    }
   ],
   "source": [
    "print(rf_random.score(X_test, y_test))\n",
    "print(rf_random.score(X_train, y_train))\n",
    "print(rs_NEE[0].corr(fluxnet_NEE['NEE_CUT_USTAR50']))"
   ]
  }
 ],
 "metadata": {
  "kernelspec": {
   "display_name": "Python 3",
   "language": "python",
   "name": "python3"
  },
  "language_info": {
   "codemirror_mode": {
    "name": "ipython",
    "version": 3
   },
   "file_extension": ".py",
   "mimetype": "text/x-python",
   "name": "python",
   "nbconvert_exporter": "python",
   "pygments_lexer": "ipython3",
   "version": "3.9.2"
  }
 },
 "nbformat": 4,
 "nbformat_minor": 5
}
